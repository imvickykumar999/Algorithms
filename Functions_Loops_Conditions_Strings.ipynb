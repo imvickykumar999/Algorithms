{
  "nbformat": 4,
  "nbformat_minor": 5,
  "metadata": {
    "kernelspec": {
      "display_name": "Python 3",
      "language": "python",
      "name": "python3"
    },
    "language_info": {
      "codemirror_mode": {
        "name": "ipython",
        "version": 3
      },
      "file_extension": ".py",
      "mimetype": "text/x-python",
      "name": "python",
      "nbconvert_exporter": "python",
      "pygments_lexer": "ipython3",
      "version": "3.7.6"
    },
    "colab": {
      "name": "Functions_Loops_Conditions_Strings.ipynb",
      "provenance": [],
      "collapsed_sections": [],
      "include_colab_link": true
    }
  },
  "cells": [
    {
      "cell_type": "markdown",
      "metadata": {
        "id": "view-in-github",
        "colab_type": "text"
      },
      "source": [
        "<a href=\"https://colab.research.google.com/github/imvickykumar999/Algorithms/blob/main/Functions_Loops_Conditions_Strings.ipynb\" target=\"_parent\"><img src=\"https://colab.research.google.com/assets/colab-badge.svg\" alt=\"Open In Colab\"/></a>"
      ]
    },
    {
      "cell_type": "markdown",
      "metadata": {
        "id": "GfXFwHZs6f3i"
      },
      "source": [
        "# <center> Assignment 3</center>"
      ],
      "id": "GfXFwHZs6f3i"
    },
    {
      "cell_type": "markdown",
      "metadata": {
        "id": "anCtZQI76f3k"
      },
      "source": [
        "**Check if the String contains only numbers**"
      ],
      "id": "anCtZQI76f3k"
    },
    {
      "cell_type": "code",
      "metadata": {
        "id": "nbKqMK586f3l"
      },
      "source": [
        "s = '8000'"
      ],
      "id": "nbKqMK586f3l",
      "execution_count": 2,
      "outputs": []
    },
    {
      "cell_type": "code",
      "metadata": {
        "colab": {
          "base_uri": "https://localhost:8080/"
        },
        "id": "RE2nm_oq6xO_",
        "outputId": "47e67471-32ae-424a-a1c3-87fb2d598e32"
      },
      "source": [
        "s.isdecimal()"
      ],
      "id": "RE2nm_oq6xO_",
      "execution_count": 3,
      "outputs": [
        {
          "output_type": "execute_result",
          "data": {
            "text/plain": [
              "True"
            ]
          },
          "metadata": {
            "tags": []
          },
          "execution_count": 3
        }
      ]
    },
    {
      "cell_type": "markdown",
      "metadata": {
        "id": "mJ5vueQe6f3m"
      },
      "source": [
        "Expected Output = True"
      ],
      "id": "mJ5vueQe6f3m"
    },
    {
      "cell_type": "markdown",
      "metadata": {
        "id": "gp1Us8ao6f3n"
      },
      "source": [
        "**Check if the string is compose of all lower characters**"
      ],
      "id": "gp1Us8ao6f3n"
    },
    {
      "cell_type": "code",
      "metadata": {
        "id": "nafrN-pe6f3n"
      },
      "source": [
        "d = 'loweRcase'"
      ],
      "id": "nafrN-pe6f3n",
      "execution_count": 4,
      "outputs": []
    },
    {
      "cell_type": "code",
      "metadata": {
        "colab": {
          "base_uri": "https://localhost:8080/"
        },
        "id": "yiLfwwd369Iu",
        "outputId": "1aef005a-0ea5-475c-a074-68ed016d7a91"
      },
      "source": [
        "d.islower()"
      ],
      "id": "yiLfwwd369Iu",
      "execution_count": 5,
      "outputs": [
        {
          "output_type": "execute_result",
          "data": {
            "text/plain": [
              "False"
            ]
          },
          "metadata": {
            "tags": []
          },
          "execution_count": 5
        }
      ]
    },
    {
      "cell_type": "markdown",
      "metadata": {
        "id": "rLhZb_eu6f3o"
      },
      "source": [
        "Expected Output = False"
      ],
      "id": "rLhZb_eu6f3o"
    },
    {
      "cell_type": "markdown",
      "metadata": {
        "id": "8H_TNDeG6f3p"
      },
      "source": [
        "**Check if the first character in a string is lowercase**"
      ],
      "id": "8H_TNDeG6f3p"
    },
    {
      "cell_type": "code",
      "metadata": {
        "id": "1JfoaZdI6f3q"
      },
      "source": [
        "a = 'aPPlE'"
      ],
      "id": "1JfoaZdI6f3q",
      "execution_count": 6,
      "outputs": []
    },
    {
      "cell_type": "code",
      "metadata": {
        "colab": {
          "base_uri": "https://localhost:8080/"
        },
        "id": "wR-D08x-7B3z",
        "outputId": "9d02eb93-9702-4904-a8a5-ef50fc84bfff"
      },
      "source": [
        "a[0].islower()"
      ],
      "id": "wR-D08x-7B3z",
      "execution_count": 8,
      "outputs": [
        {
          "output_type": "execute_result",
          "data": {
            "text/plain": [
              "True"
            ]
          },
          "metadata": {
            "tags": []
          },
          "execution_count": 8
        }
      ]
    },
    {
      "cell_type": "markdown",
      "metadata": {
        "id": "r6saCPA86f3q"
      },
      "source": [
        "Expected Output = True"
      ],
      "id": "r6saCPA86f3q"
    },
    {
      "cell_type": "markdown",
      "metadata": {
        "id": "2fO_yvU46f3r"
      },
      "source": [
        "**Join a list of strings into a single string, delimited by hyphens**"
      ],
      "id": "2fO_yvU46f3r"
    },
    {
      "cell_type": "code",
      "metadata": {
        "id": "hNMP32JT6f3r"
      },
      "source": [
        "string_list = ['a','b','c']"
      ],
      "id": "hNMP32JT6f3r",
      "execution_count": 9,
      "outputs": []
    },
    {
      "cell_type": "code",
      "metadata": {
        "colab": {
          "base_uri": "https://localhost:8080/",
          "height": 35
        },
        "id": "5DH-30O37NG7",
        "outputId": "af7e75be-78f4-48b6-df3a-31330211192a"
      },
      "source": [
        "'-'.join(string_list)"
      ],
      "id": "5DH-30O37NG7",
      "execution_count": 10,
      "outputs": [
        {
          "output_type": "execute_result",
          "data": {
            "application/vnd.google.colaboratory.intrinsic+json": {
              "type": "string"
            },
            "text/plain": [
              "'a-b-c'"
            ]
          },
          "metadata": {
            "tags": []
          },
          "execution_count": 10
        }
      ]
    },
    {
      "cell_type": "markdown",
      "metadata": {
        "id": "Ike9SBXb6f3s"
      },
      "source": [
        "Expected Output = 'a-b-c'"
      ],
      "id": "Ike9SBXb6f3s"
    },
    {
      "cell_type": "markdown",
      "metadata": {
        "id": "01rSsfaT6f3s"
      },
      "source": [
        "**Write a program to display the last digit of the number given**"
      ],
      "id": "01rSsfaT6f3s"
    },
    {
      "cell_type": "code",
      "metadata": {
        "id": "FRvcrHoA6f3s"
      },
      "source": [
        "number = 2345"
      ],
      "id": "FRvcrHoA6f3s",
      "execution_count": 11,
      "outputs": []
    },
    {
      "cell_type": "code",
      "metadata": {
        "colab": {
          "base_uri": "https://localhost:8080/"
        },
        "id": "XF_KD2qS7Xkd",
        "outputId": "1e42259f-5457-4b44-b2b7-9d86cd6dcce7"
      },
      "source": [
        "number%10"
      ],
      "id": "XF_KD2qS7Xkd",
      "execution_count": 12,
      "outputs": [
        {
          "output_type": "execute_result",
          "data": {
            "text/plain": [
              "5"
            ]
          },
          "metadata": {
            "tags": []
          },
          "execution_count": 12
        }
      ]
    },
    {
      "cell_type": "markdown",
      "metadata": {
        "id": "3yesEFlv6f3t"
      },
      "source": [
        "Expected Output = 5"
      ],
      "id": "3yesEFlv6f3t"
    },
    {
      "cell_type": "markdown",
      "metadata": {
        "id": "bw22eJih6f3t"
      },
      "source": [
        "**Given a number count the total number of digits in a number**"
      ],
      "id": "bw22eJih6f3t"
    },
    {
      "cell_type": "code",
      "metadata": {
        "id": "sshVkb0X6f3t"
      },
      "source": [
        "number = 75869"
      ],
      "id": "sshVkb0X6f3t",
      "execution_count": 13,
      "outputs": []
    },
    {
      "cell_type": "code",
      "metadata": {
        "colab": {
          "base_uri": "https://localhost:8080/"
        },
        "id": "QyM0tagx7fx8",
        "outputId": "eb571e9b-2ad6-4223-ebb8-a5157443baba"
      },
      "source": [
        "len(str(number))"
      ],
      "id": "QyM0tagx7fx8",
      "execution_count": 15,
      "outputs": [
        {
          "output_type": "execute_result",
          "data": {
            "text/plain": [
              "5"
            ]
          },
          "metadata": {
            "tags": []
          },
          "execution_count": 15
        }
      ]
    },
    {
      "cell_type": "markdown",
      "metadata": {
        "id": "34PS3U926f3t"
      },
      "source": [
        "Expected Output = 5"
      ],
      "id": "34PS3U926f3t"
    },
    {
      "cell_type": "markdown",
      "metadata": {
        "id": "QErF5VA06f3u"
      },
      "source": [
        "**Reverse the following List using for loop**"
      ],
      "id": "QErF5VA06f3u"
    },
    {
      "cell_type": "code",
      "metadata": {
        "id": "9ZVh9jVU6f3u"
      },
      "source": [
        "List = [10, 40, 160, 320]"
      ],
      "id": "9ZVh9jVU6f3u",
      "execution_count": 16,
      "outputs": []
    },
    {
      "cell_type": "code",
      "metadata": {
        "colab": {
          "base_uri": "https://localhost:8080/"
        },
        "id": "1NB6ZREU7nok",
        "outputId": "20762e53-7ce2-47ad-ac18-ba499f71faa3"
      },
      "source": [
        "[i for i in List[::-1]]"
      ],
      "id": "1NB6ZREU7nok",
      "execution_count": 20,
      "outputs": [
        {
          "output_type": "execute_result",
          "data": {
            "text/plain": [
              "[320, 160, 40, 10]"
            ]
          },
          "metadata": {
            "tags": []
          },
          "execution_count": 20
        }
      ]
    },
    {
      "cell_type": "markdown",
      "metadata": {
        "id": "mR8bAzwR6f3u"
      },
      "source": [
        "Expected Output = [320, 160, 40, 10]"
      ],
      "id": "mR8bAzwR6f3u"
    },
    {
      "cell_type": "markdown",
      "metadata": {
        "id": "bfhvIKVF6f3v"
      },
      "source": [
        "**Display Numbers from -10 to 1 using for loop in a list**"
      ],
      "id": "bfhvIKVF6f3v"
    },
    {
      "cell_type": "code",
      "metadata": {
        "colab": {
          "base_uri": "https://localhost:8080/"
        },
        "id": "q4sa6uW-6f3v",
        "outputId": "3f5b81ab-809e-4f51-9a4c-b3206a356a4d"
      },
      "source": [
        "[i for i in range(-10, 0)]"
      ],
      "id": "q4sa6uW-6f3v",
      "execution_count": 25,
      "outputs": [
        {
          "output_type": "execute_result",
          "data": {
            "text/plain": [
              "[-10, -9, -8, -7, -6, -5, -4, -3, -2, -1]"
            ]
          },
          "metadata": {
            "tags": []
          },
          "execution_count": 25
        }
      ]
    },
    {
      "cell_type": "markdown",
      "metadata": {
        "id": "TGPOEHrH6f3v"
      },
      "source": [
        "Expected Output = [-10, -9, -8, -7, -6, -5, -4, -3, -2, -1]"
      ],
      "id": "TGPOEHrH6f3v"
    },
    {
      "cell_type": "markdown",
      "metadata": {
        "id": "dNNLYCYz6f3v"
      },
      "source": [
        "**Write a program to check whether a number is divisible by 7 or not**"
      ],
      "id": "dNNLYCYz6f3v"
    },
    {
      "cell_type": "code",
      "metadata": {
        "colab": {
          "base_uri": "https://localhost:8080/"
        },
        "id": "00Rzq9T86f3w",
        "outputId": "1a645489-6c8c-43ef-c57d-53af132592a5"
      },
      "source": [
        "num = 49\n",
        "if num % 7 == 0:\n",
        "  print('Yes, Divisible by 7')\n",
        "else:\n",
        "    print('Not Divisible by 7')"
      ],
      "id": "00Rzq9T86f3w",
      "execution_count": 27,
      "outputs": [
        {
          "output_type": "stream",
          "text": [
            "Yes, Divisible by 7\n"
          ],
          "name": "stdout"
        }
      ]
    },
    {
      "cell_type": "markdown",
      "metadata": {
        "id": "nSphD1UA6f3w"
      },
      "source": [
        "**Print the sum of first 5 Natural Numbers using loop**"
      ],
      "id": "nSphD1UA6f3w"
    },
    {
      "cell_type": "code",
      "metadata": {
        "colab": {
          "base_uri": "https://localhost:8080/"
        },
        "id": "rDzpIPkj6f3w",
        "outputId": "26d505a0-8bf0-4219-c68d-3a49fdfb69a3"
      },
      "source": [
        "sum=0\n",
        "for i in range(1,6):\n",
        "  sum+=i\n",
        "\n",
        "sum"
      ],
      "id": "rDzpIPkj6f3w",
      "execution_count": 29,
      "outputs": [
        {
          "output_type": "execute_result",
          "data": {
            "text/plain": [
              "15"
            ]
          },
          "metadata": {
            "tags": []
          },
          "execution_count": 29
        }
      ]
    },
    {
      "cell_type": "markdown",
      "metadata": {
        "id": "fX527DWc6f3w"
      },
      "source": [
        "Expected Output = 15"
      ],
      "id": "fX527DWc6f3w"
    },
    {
      "cell_type": "code",
      "metadata": {
        "id": "7HKjUGKr6f3x"
      },
      "source": [
        ""
      ],
      "id": "7HKjUGKr6f3x",
      "execution_count": null,
      "outputs": []
    },
    {
      "cell_type": "markdown",
      "metadata": {
        "id": "TO0EKloi6f3x"
      },
      "source": [
        "Note: The Notebook is only for practice purpose, created by Sumit Kumar"
      ],
      "id": "TO0EKloi6f3x"
    }
  ]
}