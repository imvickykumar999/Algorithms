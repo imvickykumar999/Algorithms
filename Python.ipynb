{
  "nbformat": 4,
  "nbformat_minor": 0,
  "metadata": {
    "colab": {
      "name": "Python.ipynb",
      "provenance": [],
      "collapsed_sections": [],
      "authorship_tag": "ABX9TyMLR2Bm1yupNXlLQ4k4Sr+x",
      "include_colab_link": true
    },
    "kernelspec": {
      "name": "python3",
      "display_name": "Python 3"
    },
    "language_info": {
      "name": "python"
    }
  },
  "cells": [
    {
      "cell_type": "markdown",
      "metadata": {
        "id": "view-in-github",
        "colab_type": "text"
      },
      "source": [
        "<a href=\"https://colab.research.google.com/github/imvickykumar999/Algorithms/blob/main/Python.ipynb\" target=\"_parent\"><img src=\"https://colab.research.google.com/assets/colab-badge.svg\" alt=\"Open In Colab\"/></a>"
      ]
    },
    {
      "cell_type": "code",
      "metadata": {
        "id": "3tMlhtVrJnUs",
        "colab": {
          "base_uri": "https://localhost:8080/"
        },
        "outputId": "27711c03-cb0b-4783-f1d7-cc0c8b776b57"
      },
      "source": [
        "class Person:\n",
        "  def __init__(self, _name, _age):\n",
        "    self.name = _name\n",
        "    self.age = _age\n",
        "   \n",
        "  def sayHi(self):\n",
        "    print('Hello, my name is ' + self.name + ' and I am ' + str(self.age) + ' years old!')\n",
        "    \n",
        "p1 = Person('Bob', 25)\n",
        "p1.sayHi() # Prints: Hello, my name is Bob and I am 25 years old!"
      ],
      "execution_count": null,
      "outputs": [
        {
          "output_type": "stream",
          "text": [
            "Hello, my name is Bob and I am 25 years old!\n"
          ],
          "name": "stdout"
        }
      ]
    },
    {
      "cell_type": "markdown",
      "metadata": {
        "id": "WuRi54k2_DZ3"
      },
      "source": [
        "# Function\n",
        "----------------------------------\n",
        "Default Argument"
      ]
    },
    {
      "cell_type": "code",
      "metadata": {
        "id": "vF8rtF0wL2ya"
      },
      "source": [
        "def calculator(a=6, b=4, c='-'):\n",
        "  \n",
        "  if c == '+':\n",
        "    answer = a+b\n",
        "\n",
        "  elif c == '-':\n",
        "    answer = a-b\n",
        "\n",
        "  elif c == '*':\n",
        "    answer = a*b\n",
        "\n",
        "  elif c == '/':\n",
        "\n",
        "    if b == 0:\n",
        "      answer = 'NOT DEFINED'\n",
        "\n",
        "    else:\n",
        "      answer = a/b\n",
        "\n",
        "  elif c == '%':\n",
        "    answer = a%b\n",
        "\n",
        "  else:\n",
        "    answer = 'Try Again...'\n",
        "\n",
        "  return answer"
      ],
      "execution_count": null,
      "outputs": []
    },
    {
      "cell_type": "code",
      "metadata": {
        "colab": {
          "base_uri": "https://localhost:8080/"
        },
        "id": "b_E8FzadNjEQ",
        "outputId": "2af06d8c-087d-43e8-a323-5158328c1d0e"
      },
      "source": [
        "calculator(1,4,'+')"
      ],
      "execution_count": null,
      "outputs": [
        {
          "output_type": "execute_result",
          "data": {
            "text/plain": [
              "5"
            ]
          },
          "metadata": {
            "tags": []
          },
          "execution_count": 25
        }
      ]
    },
    {
      "cell_type": "code",
      "metadata": {
        "colab": {
          "base_uri": "https://localhost:8080/"
        },
        "id": "KSmN75H6NnyV",
        "outputId": "ea9d625d-fb3a-432d-efad-60342a45f59f"
      },
      "source": [
        "calculator(54, 2, '/')"
      ],
      "execution_count": null,
      "outputs": [
        {
          "output_type": "execute_result",
          "data": {
            "text/plain": [
              "27.0"
            ]
          },
          "metadata": {
            "tags": []
          },
          "execution_count": 26
        }
      ]
    },
    {
      "cell_type": "code",
      "metadata": {
        "colab": {
          "base_uri": "https://localhost:8080/"
        },
        "id": "6BIQYbg9Nree",
        "outputId": "1484cc93-8682-4dc8-efa6-7dc8f887d241"
      },
      "source": [
        "calculator()"
      ],
      "execution_count": null,
      "outputs": [
        {
          "output_type": "execute_result",
          "data": {
            "text/plain": [
              "2"
            ]
          },
          "metadata": {
            "tags": []
          },
          "execution_count": 27
        }
      ]
    },
    {
      "cell_type": "code",
      "metadata": {
        "colab": {
          "base_uri": "https://localhost:8080/"
        },
        "id": "nzvpy3kEOMw0",
        "outputId": "e3fb174c-31a6-4721-deea-63a4138c69b4"
      },
      "source": [
        "calculator(b=8, c='*')"
      ],
      "execution_count": null,
      "outputs": [
        {
          "output_type": "execute_result",
          "data": {
            "text/plain": [
              "48"
            ]
          },
          "metadata": {
            "tags": []
          },
          "execution_count": 28
        }
      ]
    },
    {
      "cell_type": "code",
      "metadata": {
        "colab": {
          "base_uri": "https://localhost:8080/"
        },
        "id": "eqbLKQ-lOPzX",
        "outputId": "77c9bca1-5ffb-4094-d3ad-2fb53ed11a49"
      },
      "source": [
        "calculator(9)"
      ],
      "execution_count": null,
      "outputs": [
        {
          "output_type": "execute_result",
          "data": {
            "text/plain": [
              "5"
            ]
          },
          "metadata": {
            "tags": []
          },
          "execution_count": 29
        }
      ]
    },
    {
      "cell_type": "code",
      "metadata": {
        "colab": {
          "base_uri": "https://localhost:8080/"
        },
        "id": "Ucfs_uLjOXJB",
        "outputId": "2baecfe0-e276-47cb-e921-58fcbc25a59d"
      },
      "source": [
        "calculator(a=7, c='+')"
      ],
      "execution_count": null,
      "outputs": [
        {
          "output_type": "execute_result",
          "data": {
            "text/plain": [
              "11"
            ]
          },
          "metadata": {
            "tags": []
          },
          "execution_count": 30
        }
      ]
    },
    {
      "cell_type": "code",
      "metadata": {
        "colab": {
          "base_uri": "https://localhost:8080/"
        },
        "id": "fJ79J8_jOgwY",
        "outputId": "5bd147f3-f933-4cab-9546-3b47eb5fc8ea"
      },
      "source": [
        "calculator(12, 5, '%')"
      ],
      "execution_count": null,
      "outputs": [
        {
          "output_type": "execute_result",
          "data": {
            "text/plain": [
              "2"
            ]
          },
          "metadata": {
            "tags": []
          },
          "execution_count": 33
        }
      ]
    },
    {
      "cell_type": "markdown",
      "metadata": {
        "id": "Y2DJSfXz-8oo"
      },
      "source": [
        "# Dictionary\n",
        "-------------------------\n",
        "##### Text Type:\t\tstr\n",
        "##### Numeric Types:\tint, float\n",
        "##### Sequence Types:\tlist, tuple\n",
        "##### Mapping Type:\tdict"
      ]
    },
    {
      "cell_type": "code",
      "metadata": {
        "id": "8LkGg5nAO5Vk"
      },
      "source": [
        "d = {1 : 'Sunday', 2 : 'Monday', 3 : 'Tuesday', 4 : 'Wednesday', 5 : 'Thursday', 6 : 'Friday', 7 : 'Saturday'}"
      ],
      "execution_count": null,
      "outputs": []
    },
    {
      "cell_type": "code",
      "metadata": {
        "colab": {
          "base_uri": "https://localhost:8080/"
        },
        "id": "i5H337dj_ws_",
        "outputId": "fd9a7b87-885b-4d16-dbd1-9cf80834cfff"
      },
      "source": [
        "d"
      ],
      "execution_count": null,
      "outputs": [
        {
          "output_type": "execute_result",
          "data": {
            "text/plain": [
              "{1: 'Sunday',\n",
              " 2: 'Monday',\n",
              " 3: 'Tuesday',\n",
              " 4: 'Wednesday',\n",
              " 5: 'Thursday',\n",
              " 6: 'Friday',\n",
              " 7: 'Saturday'}"
            ]
          },
          "metadata": {
            "tags": []
          },
          "execution_count": 2
        }
      ]
    },
    {
      "cell_type": "code",
      "metadata": {
        "id": "wIL1iYH0_x35"
      },
      "source": [
        "k = d.keys()"
      ],
      "execution_count": null,
      "outputs": []
    },
    {
      "cell_type": "code",
      "metadata": {
        "colab": {
          "base_uri": "https://localhost:8080/"
        },
        "id": "GXsU_i5A_4f1",
        "outputId": "c1314170-2012-41aa-a8c9-5658a0f45688"
      },
      "source": [
        "k"
      ],
      "execution_count": null,
      "outputs": [
        {
          "output_type": "execute_result",
          "data": {
            "text/plain": [
              "dict_keys([1, 2, 3, 4, 5, 6, 7])"
            ]
          },
          "metadata": {
            "tags": []
          },
          "execution_count": 4
        }
      ]
    },
    {
      "cell_type": "code",
      "metadata": {
        "id": "NgJva56X_5Jf"
      },
      "source": [
        "v = d.values()"
      ],
      "execution_count": null,
      "outputs": []
    },
    {
      "cell_type": "code",
      "metadata": {
        "colab": {
          "base_uri": "https://localhost:8080/"
        },
        "id": "x_icN-Q__7zi",
        "outputId": "0a0d2a7e-63e0-488f-fcf8-7a64992c4171"
      },
      "source": [
        "v"
      ],
      "execution_count": null,
      "outputs": [
        {
          "output_type": "execute_result",
          "data": {
            "text/plain": [
              "dict_values(['Sunday', 'Monday', 'Tuesday', 'Wednesday', 'Thursday', 'Friday', 'Saturday'])"
            ]
          },
          "metadata": {
            "tags": []
          },
          "execution_count": 6
        }
      ]
    },
    {
      "cell_type": "code",
      "metadata": {
        "id": "LWyLl-JR_8Bv"
      },
      "source": [
        "kl = list(k)"
      ],
      "execution_count": null,
      "outputs": []
    },
    {
      "cell_type": "code",
      "metadata": {
        "colab": {
          "base_uri": "https://localhost:8080/"
        },
        "id": "I7ERFrx5AEiA",
        "outputId": "2f08ee06-20b2-4dd1-f47d-633328c537e9"
      },
      "source": [
        "kl"
      ],
      "execution_count": null,
      "outputs": [
        {
          "output_type": "execute_result",
          "data": {
            "text/plain": [
              "[1, 2, 3, 4, 5, 6, 7]"
            ]
          },
          "metadata": {
            "tags": []
          },
          "execution_count": 8
        }
      ]
    },
    {
      "cell_type": "code",
      "metadata": {
        "id": "kU5TckN-AE8j"
      },
      "source": [
        "vl = list(v)"
      ],
      "execution_count": null,
      "outputs": []
    },
    {
      "cell_type": "code",
      "metadata": {
        "colab": {
          "base_uri": "https://localhost:8080/"
        },
        "id": "7VRrrL-jAHzu",
        "outputId": "8c7ef511-9b3e-4161-ce94-70a9e2564919"
      },
      "source": [
        "vl"
      ],
      "execution_count": null,
      "outputs": [
        {
          "output_type": "execute_result",
          "data": {
            "text/plain": [
              "['Sunday', 'Monday', 'Tuesday', 'Wednesday', 'Thursday', 'Friday', 'Saturday']"
            ]
          },
          "metadata": {
            "tags": []
          },
          "execution_count": 10
        }
      ]
    },
    {
      "cell_type": "code",
      "metadata": {
        "colab": {
          "base_uri": "https://localhost:8080/"
        },
        "id": "wu0ve1YiAIlw",
        "outputId": "d0a86d6f-da68-4e3a-82a9-11c6fe2c8aeb"
      },
      "source": [
        "kl[3]"
      ],
      "execution_count": null,
      "outputs": [
        {
          "output_type": "execute_result",
          "data": {
            "text/plain": [
              "4"
            ]
          },
          "metadata": {
            "tags": []
          },
          "execution_count": 11
        }
      ]
    },
    {
      "cell_type": "code",
      "metadata": {
        "colab": {
          "base_uri": "https://localhost:8080/",
          "height": 35
        },
        "id": "8zsReg0iAKee",
        "outputId": "62eec566-21ce-4f5f-b507-9403c63dd567"
      },
      "source": [
        "vl[3]"
      ],
      "execution_count": null,
      "outputs": [
        {
          "output_type": "execute_result",
          "data": {
            "application/vnd.google.colaboratory.intrinsic+json": {
              "type": "string"
            },
            "text/plain": [
              "'Wednesday'"
            ]
          },
          "metadata": {
            "tags": []
          },
          "execution_count": 12
        }
      ]
    },
    {
      "cell_type": "code",
      "metadata": {
        "id": "GvuDYOC7AMzF"
      },
      "source": [
        "dl = d.items()"
      ],
      "execution_count": null,
      "outputs": []
    },
    {
      "cell_type": "code",
      "metadata": {
        "colab": {
          "base_uri": "https://localhost:8080/"
        },
        "id": "0G8903fQAnGT",
        "outputId": "28e74b72-5f8f-4bbd-fc34-12a2eecf9985"
      },
      "source": [
        "dl"
      ],
      "execution_count": null,
      "outputs": [
        {
          "output_type": "execute_result",
          "data": {
            "text/plain": [
              "dict_items([(1, 'Sunday'), (2, 'Monday'), (3, 'Tuesday'), (4, 'Wednesday'), (5, 'Thursday'), (6, 'Friday'), (7, 'Saturday')])"
            ]
          },
          "metadata": {
            "tags": []
          },
          "execution_count": 15
        }
      ]
    },
    {
      "cell_type": "code",
      "metadata": {
        "id": "Bn2u6sRoAszr"
      },
      "source": [
        "dll = list(dl)"
      ],
      "execution_count": null,
      "outputs": []
    },
    {
      "cell_type": "code",
      "metadata": {
        "colab": {
          "base_uri": "https://localhost:8080/"
        },
        "id": "U0xhgho7Au_y",
        "outputId": "e4d61f40-7003-4b00-c038-a58646a8edab"
      },
      "source": [
        "dll"
      ],
      "execution_count": null,
      "outputs": [
        {
          "output_type": "execute_result",
          "data": {
            "text/plain": [
              "[(1, 'Sunday'),\n",
              " (2, 'Monday'),\n",
              " (3, 'Tuesday'),\n",
              " (4, 'Wednesday'),\n",
              " (5, 'Thursday'),\n",
              " (6, 'Friday'),\n",
              " (7, 'Saturday')]"
            ]
          },
          "metadata": {
            "tags": []
          },
          "execution_count": 17
        }
      ]
    },
    {
      "cell_type": "code",
      "metadata": {
        "id": "sFf1RQnMAvQk"
      },
      "source": [
        "t = dll[0]"
      ],
      "execution_count": null,
      "outputs": []
    },
    {
      "cell_type": "code",
      "metadata": {
        "colab": {
          "base_uri": "https://localhost:8080/"
        },
        "id": "SVZE7AADAySW",
        "outputId": "0eb52390-7b6c-4b82-c865-a43e547a0c38"
      },
      "source": [
        "t"
      ],
      "execution_count": null,
      "outputs": [
        {
          "output_type": "execute_result",
          "data": {
            "text/plain": [
              "(1, 'Sunday')"
            ]
          },
          "metadata": {
            "tags": []
          },
          "execution_count": 20
        }
      ]
    },
    {
      "cell_type": "code",
      "metadata": {
        "colab": {
          "base_uri": "https://localhost:8080/",
          "height": 35
        },
        "id": "1nbjGTUfA1P5",
        "outputId": "7f4e219c-f7c1-4a0c-b673-5cb63f1361fa"
      },
      "source": [
        "t[1]"
      ],
      "execution_count": null,
      "outputs": [
        {
          "output_type": "execute_result",
          "data": {
            "application/vnd.google.colaboratory.intrinsic+json": {
              "type": "string"
            },
            "text/plain": [
              "'Sunday'"
            ]
          },
          "metadata": {
            "tags": []
          },
          "execution_count": 21
        }
      ]
    },
    {
      "cell_type": "code",
      "metadata": {
        "id": "_RP1NRG3A27c"
      },
      "source": [
        ""
      ],
      "execution_count": null,
      "outputs": []
    }
  ]
}