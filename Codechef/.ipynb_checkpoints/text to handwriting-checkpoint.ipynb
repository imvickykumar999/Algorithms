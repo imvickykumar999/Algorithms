{
 "cells": [
  {
   "cell_type": "code",
   "execution_count": 2,
   "metadata": {
    "scrolled": true
   },
   "outputs": [
    {
     "name": "stdout",
     "output_type": "stream",
     "text": [
      "Collecting pywhatkit\n",
      "  Downloading pywhatkit-5.0-py3-none-any.whl (12 kB)\n",
      "Requirement already satisfied: Pillow in c:\\users\\vicky\\anaconda3\\lib\\site-packages (from pywhatkit) (8.1.0)\n",
      "Requirement already satisfied: pyautogui in c:\\users\\vicky\\anaconda3\\lib\\site-packages (from pywhatkit) (0.9.51)\n",
      "Requirement already satisfied: requests in c:\\users\\vicky\\anaconda3\\lib\\site-packages (from pywhatkit) (2.24.0)\n",
      "Collecting wikipedia\n",
      "  Using cached wikipedia-1.4.0.tar.gz (27 kB)\n",
      "Requirement already satisfied: pygetwindow>=0.0.5 in c:\\users\\vicky\\anaconda3\\lib\\site-packages (from pyautogui->pywhatkit) (0.0.9)\n",
      "Requirement already satisfied: pymsgbox in c:\\users\\vicky\\anaconda3\\lib\\site-packages (from pyautogui->pywhatkit) (1.0.8)\n",
      "Requirement already satisfied: mouseinfo in c:\\users\\vicky\\anaconda3\\lib\\site-packages (from pyautogui->pywhatkit) (0.1.3)\n",
      "Requirement already satisfied: pyscreeze>=0.1.21 in c:\\users\\vicky\\anaconda3\\lib\\site-packages (from pyautogui->pywhatkit) (0.1.26)\n",
      "Requirement already satisfied: PyTweening>=1.0.1 in c:\\users\\vicky\\anaconda3\\lib\\site-packages (from pyautogui->pywhatkit) (1.0.3)\n",
      "Requirement already satisfied: idna<3,>=2.5 in c:\\users\\vicky\\anaconda3\\lib\\site-packages (from requests->pywhatkit) (2.10)\n",
      "Requirement already satisfied: chardet<4,>=3.0.2 in c:\\users\\vicky\\anaconda3\\lib\\site-packages (from requests->pywhatkit) (3.0.4)\n",
      "Requirement already satisfied: certifi>=2017.4.17 in c:\\users\\vicky\\anaconda3\\lib\\site-packages (from requests->pywhatkit) (2020.6.20)\n",
      "Requirement already satisfied: urllib3!=1.25.0,!=1.25.1,<1.26,>=1.21.1 in c:\\users\\vicky\\anaconda3\\lib\\site-packages (from requests->pywhatkit) (1.25.11)\n",
      "Requirement already satisfied: beautifulsoup4 in c:\\users\\vicky\\anaconda3\\lib\\site-packages (from wikipedia->pywhatkit) (4.9.1)\n",
      "Requirement already satisfied: pyrect in c:\\users\\vicky\\anaconda3\\lib\\site-packages (from pygetwindow>=0.0.5->pyautogui->pywhatkit) (0.1.4)\n",
      "Requirement already satisfied: pyperclip in c:\\users\\vicky\\anaconda3\\lib\\site-packages (from mouseinfo->pyautogui->pywhatkit) (1.8.0)\n",
      "Requirement already satisfied: soupsieve>1.2 in c:\\users\\vicky\\anaconda3\\lib\\site-packages (from beautifulsoup4->wikipedia->pywhatkit) (2.0.1)\n",
      "Building wheels for collected packages: wikipedia\n",
      "  Building wheel for wikipedia (setup.py): started\n",
      "  Building wheel for wikipedia (setup.py): finished with status 'done'\n",
      "  Created wheel for wikipedia: filename=wikipedia-1.4.0-py3-none-any.whl size=11689 sha256=ecd9e4133a568d423e56e37f182ccf7606662ba238e44c649f44c3db192cb5a2\n",
      "  Stored in directory: c:\\users\\vicky\\appdata\\local\\pip\\cache\\wheels\\07\\93\\05\\72c05349177dca2e0ba31a33ba4f7907606f7ddef303517c6a\n",
      "Successfully built wikipedia\n",
      "Installing collected packages: wikipedia, pywhatkit\n",
      "Successfully installed pywhatkit-5.0 wikipedia-1.4.0\n"
     ]
    }
   ],
   "source": [
    "# !pip install pywhatkit\n",
    "\n",
    "import pywhatkit as kit\n",
    "import cv2\n",
    "\n",
    "kit.text_to_handwriting(\"Hope you are doing well\", save_to=\"handwriting.png\")\n",
    "img = cv2.imread(\"handwriting.png\")\n",
    "cv2.imshow(\"Text to Handwriting\", img)\n",
    "cv2.waitKey(0)\n",
    "cv2.destroyAllWindows()"
   ]
  },
  {
   "cell_type": "code",
   "execution_count": 3,
   "metadata": {},
   "outputs": [
    {
     "name": "stdout",
     "output_type": "stream",
     "text": [
      "Collecting handwrite\n",
      "  Downloading handwrite-0.2.1-py3-none-any.whl (14 kB)\n",
      "Requirement already satisfied: Pillow in c:\\users\\vicky\\anaconda3\\lib\\site-packages (from handwrite) (8.1.0)\n",
      "Requirement already satisfied: opencv-python in c:\\users\\vicky\\anaconda3\\lib\\site-packages (from handwrite) (4.4.0.44)\n",
      "Requirement already satisfied: numpy>=1.17.3 in c:\\users\\vicky\\anaconda3\\lib\\site-packages (from opencv-python->handwrite) (1.19.5)\n",
      "Installing collected packages: handwrite\n",
      "Successfully installed handwrite-0.2.1\n"
     ]
    }
   ],
   "source": [
    "!pip install handwrite"
   ]
  },
  {
   "cell_type": "code",
   "execution_count": 1,
   "metadata": {},
   "outputs": [
    {
     "name": "stderr",
     "output_type": "stream",
     "text": [
      "python: can't open file 'handwrite.py': [Errno 2] No such file or directory\n"
     ]
    }
   ],
   "source": [
    "# !python handwrite.py --text \"Some text with minimum 50 characters\""
   ]
  },
  {
   "cell_type": "code",
   "execution_count": null,
   "metadata": {},
   "outputs": [],
   "source": []
  }
 ],
 "metadata": {
  "kernelspec": {
   "display_name": "Python 3",
   "language": "python",
   "name": "python3"
  },
  "language_info": {
   "codemirror_mode": {
    "name": "ipython",
    "version": 3
   },
   "file_extension": ".py",
   "mimetype": "text/x-python",
   "name": "python",
   "nbconvert_exporter": "python",
   "pygments_lexer": "ipython3",
   "version": "3.8.3"
  }
 },
 "nbformat": 4,
 "nbformat_minor": 4
}
