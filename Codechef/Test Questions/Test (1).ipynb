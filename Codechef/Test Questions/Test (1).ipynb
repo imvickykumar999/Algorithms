{
 "cells": [
  {
   "cell_type": "markdown",
   "id": "4b0bc8e3",
   "metadata": {},
   "source": [
    "#### Calculte the sum of the digits of a 3 - digit random number"
   ]
  },
  {
   "cell_type": "code",
   "execution_count": null,
   "id": "d87b4ddd",
   "metadata": {},
   "outputs": [],
   "source": []
  },
  {
   "cell_type": "markdown",
   "id": "1bd2166b",
   "metadata": {},
   "source": [
    "#### Determine the percntage of lowercase and upper case in a string"
   ]
  },
  {
   "cell_type": "code",
   "execution_count": null,
   "id": "46c6af7b",
   "metadata": {},
   "outputs": [],
   "source": []
  },
  {
   "cell_type": "markdown",
   "id": "dac5d466",
   "metadata": {},
   "source": [
    "#### Find the longest word in a string"
   ]
  },
  {
   "cell_type": "code",
   "execution_count": null,
   "id": "98da65d5",
   "metadata": {},
   "outputs": [],
   "source": []
  },
  {
   "cell_type": "markdown",
   "id": "40817566",
   "metadata": {},
   "source": [
    "#### Take random 1000 numbers and seperate a list of positive and negative numbers from it"
   ]
  },
  {
   "cell_type": "code",
   "execution_count": null,
   "id": "039bff2b",
   "metadata": {},
   "outputs": [],
   "source": []
  },
  {
   "cell_type": "markdown",
   "id": "4f876feb",
   "metadata": {},
   "source": [
    "#### Determine the letter number in an alphabet"
   ]
  },
  {
   "cell_type": "code",
   "execution_count": null,
   "id": "a082add2",
   "metadata": {},
   "outputs": [],
   "source": []
  },
  {
   "cell_type": "markdown",
   "id": "ac8966e6",
   "metadata": {},
   "source": [
    "#### Check the divisibilty of a number by the another number."
   ]
  },
  {
   "cell_type": "code",
   "execution_count": null,
   "id": "f9ef4596",
   "metadata": {},
   "outputs": [],
   "source": []
  },
  {
   "cell_type": "markdown",
   "id": "9abdfb38",
   "metadata": {},
   "source": [
    "#### Is is possibe to form a trinagle wiht user given points ?"
   ]
  },
  {
   "cell_type": "code",
   "execution_count": null,
   "id": "ab6c5735",
   "metadata": {},
   "outputs": [],
   "source": []
  },
  {
   "cell_type": "markdown",
   "id": "7155ef30",
   "metadata": {},
   "source": [
    "#### calculate the mass, density and volume given by the user"
   ]
  },
  {
   "cell_type": "code",
   "execution_count": null,
   "id": "e9c56c05",
   "metadata": {},
   "outputs": [],
   "source": []
  },
  {
   "cell_type": "markdown",
   "id": "2241a58b",
   "metadata": {},
   "source": [
    "#### Check if theo followings sets are disjoint or not ?"
   ]
  },
  {
   "cell_type": "code",
   "execution_count": null,
   "id": "2fc46c5e",
   "metadata": {},
   "outputs": [],
   "source": [
    "set1 = {1, 2, 5, 6}\n",
    "set2 = {7, 9, 3, 4}"
   ]
  },
  {
   "cell_type": "code",
   "execution_count": null,
   "id": "0b7d5552",
   "metadata": {},
   "outputs": [],
   "source": []
  },
  {
   "cell_type": "markdown",
   "id": "962885e6",
   "metadata": {},
   "source": [
    "**Create a Function that can find the sum of more than 2 argumnents** Hint: args"
   ]
  },
  {
   "cell_type": "code",
   "execution_count": null,
   "id": "e4756bd7",
   "metadata": {},
   "outputs": [],
   "source": []
  },
  {
   "cell_type": "markdown",
   "id": "6cc0052f",
   "metadata": {},
   "source": [
    "**Write a function calculation() such that it can accept two variables and calculate the addition and subtraction of them. And also it must return both addition and subtraction in a single return call**"
   ]
  },
  {
   "cell_type": "code",
   "execution_count": null,
   "id": "87e431ca",
   "metadata": {},
   "outputs": [],
   "source": []
  },
  {
   "cell_type": "markdown",
   "id": "190d84cb",
   "metadata": {},
   "source": [
    "**Create a function showEmployee() in such a way that it should accept employee name, and its salary and display both. If the salary is missing in the function call assign default value 9000 to salary**"
   ]
  },
  {
   "cell_type": "code",
   "execution_count": null,
   "id": "8d639da4",
   "metadata": {},
   "outputs": [],
   "source": []
  },
  {
   "cell_type": "markdown",
   "id": "5dffc3c5",
   "metadata": {},
   "source": [
    "**Find the last position of a substring “Emma” in a given string**"
   ]
  },
  {
   "cell_type": "code",
   "execution_count": null,
   "id": "fcd8634b",
   "metadata": {},
   "outputs": [],
   "source": [
    "str1 = \"Emma is a data scientist who knows Python. Emma works at google.\""
   ]
  },
  {
   "cell_type": "markdown",
   "id": "353c52f4",
   "metadata": {},
   "source": [
    "**Split a given string on hyphens into several substrings and display each substring**"
   ]
  },
  {
   "cell_type": "code",
   "execution_count": null,
   "id": "0f7161eb",
   "metadata": {},
   "outputs": [],
   "source": [
    "str1 = 'Emma-is-a-data-scientist'"
   ]
  },
  {
   "cell_type": "markdown",
   "id": "2ae75794",
   "metadata": {},
   "source": [
    "**Merge following two Python dictionaries into one**"
   ]
  },
  {
   "cell_type": "code",
   "execution_count": null,
   "id": "596a26f3",
   "metadata": {},
   "outputs": [],
   "source": [
    "dict1 = {'Ten': 10, 'Twenty': 20, 'Thirty': 30}\n",
    "dict2 = {'Thirty': 30, 'Fourty': 40, 'Fifty': 50}"
   ]
  },
  {
   "cell_type": "markdown",
   "id": "f8b74cd8",
   "metadata": {},
   "source": [
    "**Rename key city to location in the following dictionary**"
   ]
  },
  {
   "cell_type": "code",
   "execution_count": null,
   "id": "6892bfe7",
   "metadata": {},
   "outputs": [],
   "source": [
    "sampleDict = {\n",
    "  \"name\": \"Kelly\",\n",
    "  \"age\":25,\n",
    "  \"salary\": 8000,\n",
    "  \"city\": \"New york\"\n",
    "}"
   ]
  },
  {
   "cell_type": "markdown",
   "id": "36034904",
   "metadata": {},
   "source": [
    "**Display numbers from -10 to -1 using for loop**"
   ]
  },
  {
   "cell_type": "code",
   "execution_count": null,
   "id": "3284c7ab",
   "metadata": {},
   "outputs": [],
   "source": []
  },
  {
   "cell_type": "markdown",
   "id": "fec546c7",
   "metadata": {},
   "source": [
    "**Use a loop to display elements from a given list that are present at even index positions**"
   ]
  },
  {
   "cell_type": "code",
   "execution_count": null,
   "id": "60fa9352",
   "metadata": {},
   "outputs": [],
   "source": []
  },
  {
   "cell_type": "markdown",
   "id": "183bedfa",
   "metadata": {},
   "source": [
    "**Display float number with 2 decimal places using print()**"
   ]
  },
  {
   "cell_type": "code",
   "execution_count": null,
   "id": "8731e5b0",
   "metadata": {},
   "outputs": [],
   "source": []
  }
 ],
 "metadata": {
  "kernelspec": {
   "display_name": "Python 3",
   "language": "python",
   "name": "python3"
  },
  "language_info": {
   "codemirror_mode": {
    "name": "ipython",
    "version": 3
   },
   "file_extension": ".py",
   "mimetype": "text/x-python",
   "name": "python",
   "nbconvert_exporter": "python",
   "pygments_lexer": "ipython3",
   "version": "3.8.8"
  }
 },
 "nbformat": 4,
 "nbformat_minor": 5
}
