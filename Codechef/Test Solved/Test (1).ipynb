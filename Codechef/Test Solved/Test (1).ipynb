{
 "cells": [
  {
   "cell_type": "markdown",
   "metadata": {},
   "source": [
    "#### Calculte the sum of the digits of a 3 - digit random number"
   ]
  },
  {
   "cell_type": "code",
   "execution_count": 43,
   "metadata": {},
   "outputs": [
    {
     "name": "stdout",
     "output_type": "stream",
     "text": [
      "Sum of all digit of random number 582 is  15\n"
     ]
    }
   ],
   "source": [
    "import random\n",
    "rndm = n = random.randint(0, 999)\n",
    "tot=0\n",
    "\n",
    "while(n>0):\n",
    "    dig=n%10\n",
    "    tot=tot+dig\n",
    "    n=n//10\n",
    "    \n",
    "print(f'Sum of all digit of random number {rndm} is ', tot) "
   ]
  },
  {
   "cell_type": "markdown",
   "metadata": {},
   "source": [
    "#### Determine the percntage of lowercase and upper case in a string"
   ]
  },
  {
   "cell_type": "code",
   "execution_count": 68,
   "metadata": {},
   "outputs": [
    {
     "name": "stdout",
     "output_type": "stream",
     "text": [
      "Enter a String : Hello, There.\n",
      "\n",
      "Percentage of UpperCase is 15.384615384615385 %\n",
      "and, LowerCase is 61.53846153846154 % in...\n",
      "Hello, There.\n"
     ]
    }
   ],
   "source": [
    "# string = 'Hello'\n",
    "string = input('Enter a String : ')\n",
    "\n",
    "str_len = len(string)\n",
    "up = down = 0\n",
    "box = []\n",
    "\n",
    "for i in string:\n",
    "    if i.isalpha():\n",
    "        box.append(i)\n",
    "\n",
    "for i in box:\n",
    "    if i.isupper():\n",
    "        up+=1\n",
    "    else:\n",
    "        down+=1\n",
    "        \n",
    "print(f'''\n",
    "Percentage of UpperCase is {up*100/str_len} %\n",
    "and, LowerCase is {down*100/str_len} % in...\n",
    "{string}''')"
   ]
  },
  {
   "cell_type": "markdown",
   "metadata": {},
   "source": [
    "#### Find the longest word in a string"
   ]
  },
  {
   "cell_type": "code",
   "execution_count": 95,
   "metadata": {
    "scrolled": true
   },
   "outputs": [
    {
     "name": "stdout",
     "output_type": "stream",
     "text": [
      "confident\n"
     ]
    }
   ],
   "source": [
    "string = \"be confident and be yourself\"\n",
    "lst = list(string.split(\" \"))\n",
    "long = sorted(lst, key = len)\n",
    "print(long[-1]) "
   ]
  },
  {
   "cell_type": "markdown",
   "metadata": {},
   "source": [
    "#### Take random 1000 numbers and seperate a list of positive and negative numbers from it"
   ]
  },
  {
   "cell_type": "code",
   "execution_count": 129,
   "metadata": {
    "scrolled": true
   },
   "outputs": [
    {
     "name": "stdout",
     "output_type": "stream",
     "text": [
      "\n",
      "Element in Positive List is :  [9, 7, 7, 5, 1, 10, 4, 7, 7, 1, 8, 4, 3, 2, 10, 8, 5, 0, 9, 10, 5, 5, 1, 10, 6, 3, 0, 5, 7, 7, 2, 4, 2, 8, 5, 10, 10, 6, 0, 8, 5, 9, 10, 7, 10, 0, 3, 2, 8, 6, 3, 5, 7, 5, 0, 9, 6, 4, 4, 9, 10, 1, 5, 8, 0, 2, 8, 3, 9, 5, 2, 3, 6, 7, 5, 2, 6, 2, 4, 9, 9, 3, 4, 0, 9, 5, 2, 6, 1, 7, 8, 4, 7, 1, 5, 8, 7, 2, 0, 6, 4, 6, 1, 10, 1, 2, 4, 10, 1, 3, 6, 2, 0, 6, 2, 5, 5, 0, 0, 3, 1, 7, 0, 7, 2, 3, 6, 2, 9, 5, 3, 2, 2, 9, 6, 9, 3, 5, 4, 0, 10, 8, 0, 10, 6, 5, 5, 4, 1, 8, 10, 5, 4, 3, 10, 6, 8, 9, 3, 8, 10, 3, 7, 4, 10, 1, 1, 9, 9, 10, 4, 3, 1, 1, 6, 4, 7, 2, 5, 2, 4, 8, 6, 5, 10, 10, 6, 3, 2, 9, 10, 10, 1, 3, 9, 10, 0, 3, 1, 10, 8, 2, 3, 7, 3, 7, 3, 2, 6, 7, 10, 7, 4, 4, 5, 9, 9, 5, 10, 10, 4, 10, 9, 4, 7, 0, 5, 5, 1, 6, 3, 6, 3, 0, 9, 4, 8, 0, 2, 0, 9, 10, 10, 4, 10, 4, 3, 1, 2, 8, 2, 9, 4, 7, 3, 5, 0, 0, 9, 2, 3, 2, 6, 3, 5, 7, 5, 4, 6, 2, 10, 0, 3, 8, 6, 10, 7, 4, 0, 2, 6, 2, 3, 8, 6, 9, 6, 10, 10, 4, 0, 7, 0, 10, 4, 2, 9, 8, 0, 6, 3, 0, 8, 1, 10, 10, 1, 4, 0, 9, 6, 5, 1, 3, 8, 2, 0, 0, 1, 6, 6, 4, 9, 4, 1, 1, 1, 0, 4, 10, 8, 8, 4, 8, 0, 8, 1, 3, 10, 9, 0, 10, 1, 1, 7, 0, 9, 3, 2, 10, 6, 7, 3, 2, 10, 8, 7, 1, 10, 1, 1, 0, 8, 6, 2, 5, 4, 8, 7, 1, 5, 8, 10, 2, 1, 1, 3, 8, 5, 5, 7, 3, 7, 4, 0, 2, 5, 2, 2, 8, 7, 9, 9, 8, 2, 7, 9, 5, 4, 4, 3, 9, 5, 8, 3, 3, 0, 9, 1, 3, 6, 2, 8, 2, 5, 6, 2, 2, 1, 4, 9, 9, 5, 4, 9, 3, 5, 7, 3, 8, 7, 7, 5, 1, 1, 6, 5, 5, 7, 5, 10, 1, 6, 0, 5, 0, 9, 7, 6, 7, 10, 4, 10, 7, 6, 10, 9, 2, 7, 8, 10, 7, 5, 0, 7, 8, 9, 10, 4, 10, 4, 6, 0, 0, 0, 2, 1, 0, 2, 10, 10, 1, 9, 1, 10, 0, 6, 7, 10, 5, 2, 3, 6, 8, 1, 0, 7, 8, 5, 5, 0, 8, 9, 0, 4, 6, 2, 9, 0, 1, 9, 3, 10, 6, 9, 7, 6, 0]\n",
      "\n",
      "Element in Negative List is :  [-5, -6, -10, -6, -2, -5, -1, -10, -8, -3, -1, -6, -2, -3, -5, -7, -8, -6, -8, -3, -6, -4, -1, -3, -7, -6, -5, -1, -4, -7, -10, -9, -7, -3, -8, -9, -8, -10, -2, -6, -2, -1, -5, -2, -9, -6, -3, -1, -10, -7, -10, -5, -4, -3, -10, -5, -6, -4, -10, -8, -3, -8, -1, -3, -3, -6, -10, -3, -1, -2, -8, -8, -9, -2, -5, -9, -6, -7, -3, -5, -4, -4, -1, -7, -7, -7, -5, -4, -5, -5, -10, -5, -7, -5, -9, -2, -9, -7, -1, -10, -10, -6, -4, -9, -3, -2, -2, -8, -2, -7, -1, -2, -3, -2, -9, -3, -3, -10, -8, -2, -5, -1, -9, -1, -6, -7, -6, -3, -5, -7, -3, -8, -7, -5, -9, -6, -5, -10, -5, -4, -7, -4, -3, -3, -4, -1, -4, -6, -5, -1, -3, -6, -9, -7, -6, -9, -6, -4, -10, -6, -7, -1, -5, -4, -1, -8, -7, -5, -9, -4, -8, -2, -2, -4, -1, -3, -9, -10, -4, -8, -8, -7, -3, -3, -2, -6, -2, -5, -9, -1, -10, -7, -3, -3, -6, -3, -9, -10, -2, -9, -4, -9, -7, -10, -4, -3, -3, -8, -8, -2, -3, -8, -6, -8, -7, -7, -1, -3, -5, -5, -6, -4, -7, -6, -3, -1, -8, -2, -7, -6, -2, -5, -7, -9, -3, -9, -4, -5, -7, -9, -7, -7, -10, -2, -2, -3, -6, -4, -9, -4, -3, -1, -5, -6, -6, -6, -2, -9, -8, -5, -2, -4, -4, -4, -4, -2, -10, -6, -10, -10, -6, -7, -4, -2, -3, -2, -1, -9, -3, -3, -8, -8, -3, -4, -4, -10, -9, -7, -10, -1, -5, -2, -9, -6, -6, -9, -5, -6, -9, -4, -7, -3, -5, -8, -7, -10, -9, -8, -5, -7, -5, -10, -2, -3, -1, -10, -7, -5, -8, -9, -3, -5, -5, -4, -6, -4, -6, -2, -3, -5, -3, -2, -8, -5, -3, -3, -9, -10, -1, -5, -6, -6, -9, -5, -9, -5, -7, -2, -10, -8, -9, -8, -2, -9, -9, -8, -10, -3, -2, -2, -8, -8, -1, -2, -8, -7, -4, -10, -4, -1, -2, -1, -5, -9, -3, -10, -7, -5, -4, -8, -3, -4, -3, -7, -3, -2, -9, -6, -10, -4, -4, -7, -9, -10, -4, -1, -2, -6, -6, -1, -1, -4, -5, -3, -4, -9, -6, -9, -5, -5, -7, -9, -3, -2, -5, -9, -8, -3, -2, -9, -2, -10, -1, -4, -1, -1, -8, -6, -7, -3, -8, -2, -1, -3, -4, -8, -3, -7, -6, -3, -2, -7, -3, -6, -8, -8, -10, -10, -3, -9, -2, -1, -10, -9, -5, -2, -6, -5, -9, -5, -8, -6, -2, -7, -3, -7, -8, -10, -6, -7, -2, -9, -10, -4, -3, -5, -6, -2, -8, -4, -7, -2]\n"
     ]
    }
   ],
   "source": [
    "NumList =  [random.randint(-10, 10) for i in range(1000)]\n",
    "Positive = []\n",
    "Negative = []\n",
    "\n",
    "for j in range(1000):\n",
    "    if NumList[j] >= 0:\n",
    "        Positive.append(NumList[j])\n",
    "    else:\n",
    "        Negative.append(NumList[j])\n",
    "\n",
    "print(\"\\nElement in Positive List is : \", Positive)\n",
    "print(\"\\nElement in Negative List is : \", Negative)"
   ]
  },
  {
   "cell_type": "markdown",
   "metadata": {},
   "source": [
    "#### Determine the letter number in an alphabet"
   ]
  },
  {
   "cell_type": "code",
   "execution_count": 133,
   "metadata": {},
   "outputs": [
    {
     "name": "stdout",
     "output_type": "stream",
     "text": [
      "Write Text: cghcvghcugj\n"
     ]
    },
    {
     "data": {
      "text/plain": [
       "[3, 7, 8, 3, 22, 7, 8, 3, 21, 7, 10]"
      ]
     },
     "execution_count": 133,
     "metadata": {},
     "output_type": "execute_result"
    }
   ],
   "source": [
    "[ord(char) - 96 for char in input('Write Text: ').lower()]"
   ]
  },
  {
   "cell_type": "markdown",
   "metadata": {},
   "source": [
    "#### Check the divisibilty of a number by the another number."
   ]
  },
  {
   "cell_type": "code",
   "execution_count": 137,
   "metadata": {},
   "outputs": [
    {
     "name": "stdout",
     "output_type": "stream",
     "text": [
      "Divisible\n"
     ]
    }
   ],
   "source": [
    "num1 = 45\n",
    "num2 = 5\n",
    "\n",
    "if not num1 % num2:\n",
    "    print('Divisible')\n",
    "else:\n",
    "    print('Not Divisible')"
   ]
  },
  {
   "cell_type": "markdown",
   "metadata": {},
   "source": [
    "#### Is is possibe to form a trinagle wiht user given points ?"
   ]
  },
  {
   "cell_type": "code",
   "execution_count": 142,
   "metadata": {},
   "outputs": [
    {
     "name": "stdout",
     "output_type": "stream",
     "text": [
      "No\n"
     ]
    }
   ],
   "source": [
    "def checkTriangle(x1, y1, x2, y2, x3, y3):\n",
    "    a = (x1 * (y2 - y3) +\n",
    "        x2 * (y3 - y1) +\n",
    "        x3 * (y1 - y2))\n",
    "    \n",
    "    if a == 0:\n",
    "        print('No')\n",
    "    else:\n",
    "        print('Yes')\n",
    "\n",
    "if __name__=='__main__':\n",
    "    (x1, x2, x3) = (1, 2, 3)\n",
    "#     (x1, x2, x3) = (1, 5, 3)\n",
    "    (y1, y2, y3) = (1, 2, 3)\n",
    "\n",
    "    checkTriangle(x1, y1, x2, y2, x3, y3)"
   ]
  },
  {
   "cell_type": "markdown",
   "metadata": {},
   "source": [
    "#### calculate the mass, density and volume given by the user"
   ]
  },
  {
   "cell_type": "code",
   "execution_count": 145,
   "metadata": {},
   "outputs": [
    {
     "name": "stdout",
     "output_type": "stream",
     "text": [
      "Enter Mass (in kg): 100\n",
      "Enter Volume (in meter cube): 5\n",
      "\n",
      "Density is 20.0 kg per meter cube\n"
     ]
    }
   ],
   "source": [
    "mass = int(input('Enter Mass (in kg): '))\n",
    "vol = int(input('Enter Volume (in meter cube): '))\n",
    "\n",
    "print(f'\\nDensity is {mass/vol} kg per meter cube')"
   ]
  },
  {
   "cell_type": "markdown",
   "metadata": {},
   "source": [
    "#### Check if theo followings sets are disjoint or not ?"
   ]
  },
  {
   "cell_type": "code",
   "execution_count": 155,
   "metadata": {},
   "outputs": [
    {
     "name": "stdout",
     "output_type": "stream",
     "text": [
      "Pair of given sets are Disjoint\n"
     ]
    }
   ],
   "source": [
    "set1 = {1, 2, 5, 6}\n",
    "set2 = {7, 9, 3, 4}\n",
    "\n",
    "if bool(set1.intersection(set2)):\n",
    "    print('Pair of given sets are NOT Disjoint')\n",
    "else:\n",
    "    print('Pair of given sets are Disjoint')"
   ]
  },
  {
   "cell_type": "markdown",
   "metadata": {},
   "source": [
    "**Create a Function that can find the sum of more than 2 argumnents** Hint: args"
   ]
  },
  {
   "cell_type": "code",
   "execution_count": 162,
   "metadata": {},
   "outputs": [
    {
     "name": "stdout",
     "output_type": "stream",
     "text": [
      "Elements are...\n",
      "7, 5, 20, \n",
      "\n",
      "Sum = 32\n"
     ]
    }
   ],
   "source": [
    "def add(*args):\n",
    "    sum = 0\n",
    "    print('Elements are...')\n",
    "    for i in args:\n",
    "        print(i, end=', ')\n",
    "        sum += i\n",
    "    return sum\n",
    "        \n",
    "total = add(7, 5, 20) \n",
    "print(f'\\n\\nSum = {total}')"
   ]
  },
  {
   "cell_type": "markdown",
   "metadata": {},
   "source": [
    "**Write a function calculation() such that it can accept two variables and calculate the addition and subtraction of them. And also it must return both addition and subtraction in a single return call**"
   ]
  },
  {
   "cell_type": "code",
   "execution_count": 165,
   "metadata": {},
   "outputs": [
    {
     "name": "stdout",
     "output_type": "stream",
     "text": [
      "Sum = 11\n",
      "Difference = -3\n"
     ]
    }
   ],
   "source": [
    "def calculation(a, b):\n",
    "    return a+b, a-b\n",
    "\n",
    "result = calculation(4,7)\n",
    "\n",
    "print(f'Sum = {result[0]}')\n",
    "print(f'Difference = {result[1]}')"
   ]
  },
  {
   "cell_type": "markdown",
   "metadata": {},
   "source": [
    "**Create a function showEmployee() in such a way that it should accept employee name, and its salary and display both. If the salary is missing in the function call assign default value 9000 to salary**"
   ]
  },
  {
   "cell_type": "code",
   "execution_count": 168,
   "metadata": {},
   "outputs": [
    {
     "name": "stdout",
     "output_type": "stream",
     "text": [
      "Name : A\n",
      "Salary : 4000\n",
      "\n",
      "Name : B\n",
      "Salary : 9000\n",
      "\n"
     ]
    }
   ],
   "source": [
    "def showEmployee(name, sal = 9000):\n",
    "    print(f'Name : {name}')\n",
    "    print(f'Salary : {sal}')\n",
    "    print()\n",
    "    \n",
    "showEmployee('A', 4000)\n",
    "showEmployee('B')"
   ]
  },
  {
   "cell_type": "markdown",
   "metadata": {},
   "source": [
    "**Find the last position of a substring “Emma” in a given string**"
   ]
  },
  {
   "cell_type": "code",
   "execution_count": 177,
   "metadata": {},
   "outputs": [
    {
     "name": "stdout",
     "output_type": "stream",
     "text": [
      "3\n",
      "38\n"
     ]
    }
   ],
   "source": [
    "str1 = \"Emma is a data scientist who knows Python. Emma works at google.\"\n",
    "\n",
    "ind = str1.split()\n",
    "sum = 0\n",
    "\n",
    "for i in range(len(ind)):\n",
    "    sum += len(ind[i])\n",
    "    if ind[i] == 'Emma':\n",
    "        print(sum-1)"
   ]
  },
  {
   "cell_type": "markdown",
   "metadata": {},
   "source": [
    "**Split a given string on hyphens into several substrings and display each substring**"
   ]
  },
  {
   "cell_type": "code",
   "execution_count": 184,
   "metadata": {},
   "outputs": [
    {
     "data": {
      "text/plain": [
       "['Emma', 'is', 'a', 'data', 'scientist']"
      ]
     },
     "execution_count": 184,
     "metadata": {},
     "output_type": "execute_result"
    }
   ],
   "source": [
    "str1 = 'Emma-is-a-data-scientist'\n",
    "# ' '.join(str1.split('-'))\n",
    "str1.split('-') "
   ]
  },
  {
   "cell_type": "markdown",
   "metadata": {},
   "source": [
    "**Merge following two Python dictionaries into one**"
   ]
  },
  {
   "cell_type": "code",
   "execution_count": 186,
   "metadata": {},
   "outputs": [
    {
     "data": {
      "text/plain": [
       "{'Ten': 10, 'Twenty': 20, 'Thirty': 30, 'Fourty': 40, 'Fifty': 50}"
      ]
     },
     "execution_count": 186,
     "metadata": {},
     "output_type": "execute_result"
    }
   ],
   "source": [
    "dict1 = {'Ten': 10, 'Twenty': 20, 'Thirty': 30}\n",
    "dict2 = {'Thirty': 30, 'Fourty': 40, 'Fifty': 50}\n",
    "\n",
    "dict1.update(dict2)\n",
    "dict1"
   ]
  },
  {
   "cell_type": "markdown",
   "metadata": {},
   "source": [
    "**Rename key city to location in the following dictionary**"
   ]
  },
  {
   "cell_type": "code",
   "execution_count": 187,
   "metadata": {},
   "outputs": [
    {
     "data": {
      "text/plain": [
       "'New york'"
      ]
     },
     "execution_count": 187,
     "metadata": {},
     "output_type": "execute_result"
    }
   ],
   "source": [
    "sampleDict = {\n",
    "  \"name\": \"Kelly\",\n",
    "  \"age\":25,\n",
    "  \"salary\": 8000,\n",
    "  \"city\": \"New york\"\n",
    "}\n",
    "\n",
    "sampleDict.get('city')"
   ]
  },
  {
   "cell_type": "markdown",
   "metadata": {},
   "source": [
    "**Display numbers from -10 to -1 using for loop**"
   ]
  },
  {
   "cell_type": "code",
   "execution_count": 188,
   "metadata": {},
   "outputs": [
    {
     "name": "stdout",
     "output_type": "stream",
     "text": [
      "-10\n",
      "-9\n",
      "-8\n",
      "-7\n",
      "-6\n",
      "-5\n",
      "-4\n",
      "-3\n",
      "-2\n",
      "-1\n"
     ]
    }
   ],
   "source": [
    "for i in range(-10, 0):\n",
    "    print(i)"
   ]
  },
  {
   "cell_type": "markdown",
   "metadata": {},
   "source": [
    "**Use a loop to display elements from a given list that are present at even index positions**"
   ]
  },
  {
   "cell_type": "code",
   "execution_count": 193,
   "metadata": {},
   "outputs": [
    {
     "name": "stdout",
     "output_type": "stream",
     "text": [
      "1  at index 0\n",
      "hi  at index 2\n",
      "9  at index 4\n"
     ]
    }
   ],
   "source": [
    "lst = [1, 3.14, 'hi', 34.12, 9, \"hello\"]\n",
    "for i in range(len(lst)):\n",
    "    if i%2 == 0:\n",
    "        print(lst[i], f' at index {i}')"
   ]
  },
  {
   "cell_type": "markdown",
   "metadata": {},
   "source": [
    "**Display float number with 2 decimal places using print()**"
   ]
  },
  {
   "cell_type": "code",
   "execution_count": 195,
   "metadata": {},
   "outputs": [
    {
     "data": {
      "text/plain": [
       "3.14"
      ]
     },
     "execution_count": 195,
     "metadata": {},
     "output_type": "execute_result"
    }
   ],
   "source": [
    "float(\"{:.2f}\".format(3.1416)) "
   ]
  },
  {
   "cell_type": "code",
   "execution_count": null,
   "metadata": {},
   "outputs": [],
   "source": []
  }
 ],
 "metadata": {
  "kernelspec": {
   "display_name": "Python 3",
   "language": "python",
   "name": "python3"
  },
  "language_info": {
   "codemirror_mode": {
    "name": "ipython",
    "version": 3
   },
   "file_extension": ".py",
   "mimetype": "text/x-python",
   "name": "python",
   "nbconvert_exporter": "python",
   "pygments_lexer": "ipython3",
   "version": "3.8.3"
  }
 },
 "nbformat": 4,
 "nbformat_minor": 5
}
