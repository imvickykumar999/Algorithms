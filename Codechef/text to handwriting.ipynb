{
 "cells": [
  {
   "cell_type": "code",
   "execution_count": 2,
   "metadata": {
    "scrolled": true
   },
   "outputs": [],
   "source": [
    "# !pip install pywhatkit\n",
    "\n",
    "import pywhatkit as kit\n",
    "import cv2\n",
    "\n",
    "kit.text_to_handwriting(\"Hope you are doing well\", save_to=\"handwriting.png\")\n",
    "img = cv2.imread(\"handwriting.png\")\n",
    "cv2.imshow(\"Text to Handwriting\", img)\n",
    "cv2.waitKey(0)\n",
    "cv2.destroyAllWindows()"
   ]
  },
  {
   "cell_type": "code",
   "execution_count": 3,
   "metadata": {},
   "outputs": [
    {
     "name": "stdout",
     "output_type": "stream",
     "text": [
      "Collecting handwrite\n",
      "  Downloading handwrite-0.2.1-py3-none-any.whl (14 kB)\n",
      "Requirement already satisfied: Pillow in c:\\users\\vicky\\anaconda3\\lib\\site-packages (from handwrite) (8.1.0)\n",
      "Requirement already satisfied: opencv-python in c:\\users\\vicky\\anaconda3\\lib\\site-packages (from handwrite) (4.4.0.44)\n",
      "Requirement already satisfied: numpy>=1.17.3 in c:\\users\\vicky\\anaconda3\\lib\\site-packages (from opencv-python->handwrite) (1.19.5)\n",
      "Installing collected packages: handwrite\n",
      "Successfully installed handwrite-0.2.1\n"
     ]
    }
   ],
   "source": [
    "!pip install handwrite"
   ]
  },
  {
   "cell_type": "code",
   "execution_count": 1,
   "metadata": {},
   "outputs": [
    {
     "name": "stderr",
     "output_type": "stream",
     "text": [
      "python: can't open file 'handwrite.py': [Errno 2] No such file or directory\n"
     ]
    }
   ],
   "source": [
    "# !python handwrite.py --text \"Some text with minimum 50 characters\""
   ]
  },
  {
   "cell_type": "code",
   "execution_count": null,
   "metadata": {},
   "outputs": [],
   "source": []
  }
 ],
 "metadata": {
  "kernelspec": {
   "display_name": "Python 3",
   "language": "python",
   "name": "python3"
  },
  "language_info": {
   "codemirror_mode": {
    "name": "ipython",
    "version": 3
   },
   "file_extension": ".py",
   "mimetype": "text/x-python",
   "name": "python",
   "nbconvert_exporter": "python",
   "pygments_lexer": "ipython3",
   "version": "3.8.3"
  }
 },
 "nbformat": 4,
 "nbformat_minor": 4
}
