{
  "nbformat": 4,
  "nbformat_minor": 5,
  "metadata": {
    "kernelspec": {
      "display_name": "Python 3",
      "language": "python",
      "name": "python3"
    },
    "language_info": {
      "codemirror_mode": {
        "name": "ipython",
        "version": 3
      },
      "file_extension": ".py",
      "mimetype": "text/x-python",
      "name": "python",
      "nbconvert_exporter": "python",
      "pygments_lexer": "ipython3",
      "version": "3.7.6"
    },
    "colab": {
      "name": "NumPy Excersie - I .ipynb",
      "provenance": [],
      "include_colab_link": true
    }
  },
  "cells": [
    {
      "cell_type": "markdown",
      "metadata": {
        "id": "view-in-github",
        "colab_type": "text"
      },
      "source": [
        "<a href=\"https://colab.research.google.com/github/imvickykumar999/Algorithms/blob/main/NumPy_Excersie_I_.ipynb\" target=\"_parent\"><img src=\"https://colab.research.google.com/assets/colab-badge.svg\" alt=\"Open In Colab\"/></a>"
      ]
    },
    {
      "cell_type": "markdown",
      "metadata": {
        "id": "dtxzkZDmiELz"
      },
      "source": [
        "# <center> Excercise - NumPy I </center>"
      ],
      "id": "dtxzkZDmiELz"
    },
    {
      "cell_type": "markdown",
      "metadata": {
        "id": "3OBOeF5jiEL3"
      },
      "source": [
        "### 1. Import the Package under the name np"
      ],
      "id": "3OBOeF5jiEL3"
    },
    {
      "cell_type": "code",
      "metadata": {
        "id": "2YsRwiNYiEL4"
      },
      "source": [
        "import numpy as np"
      ],
      "id": "2YsRwiNYiEL4",
      "execution_count": null,
      "outputs": []
    },
    {
      "cell_type": "markdown",
      "metadata": {
        "id": "0kdnjH0kiEL5"
      },
      "source": [
        "### 2. Print the NumPy version"
      ],
      "id": "0kdnjH0kiEL5"
    },
    {
      "cell_type": "code",
      "metadata": {
        "colab": {
          "base_uri": "https://localhost:8080/"
        },
        "id": "KyijAxWiiEL6",
        "outputId": "acf5dc3c-11f2-4bde-9f1f-e72086eeddb4"
      },
      "source": [
        "print(np.__version__)\n"
      ],
      "id": "KyijAxWiiEL6",
      "execution_count": null,
      "outputs": [
        {
          "output_type": "stream",
          "text": [
            "1.19.5\n"
          ],
          "name": "stdout"
        }
      ]
    },
    {
      "cell_type": "markdown",
      "metadata": {
        "id": "QoKGhR-fiEL8"
      },
      "source": [
        "### 3. Create a 2d Array"
      ],
      "id": "QoKGhR-fiEL8"
    },
    {
      "cell_type": "code",
      "metadata": {
        "colab": {
          "base_uri": "https://localhost:8080/"
        },
        "id": "an8GtJ2KiEL8",
        "outputId": "1c16cb40-eed7-415c-ffab-19554bbe7077"
      },
      "source": [
        "arr = np.array([[1,2,3],[4,5,6]])\n",
        "print(arr)"
      ],
      "id": "an8GtJ2KiEL8",
      "execution_count": null,
      "outputs": [
        {
          "output_type": "stream",
          "text": [
            "[[1 2 3]\n",
            " [4 5 6]]\n"
          ],
          "name": "stdout"
        }
      ]
    },
    {
      "cell_type": "markdown",
      "metadata": {
        "id": "LVLXLPrqiEL9"
      },
      "source": [
        "### 4. Create an Array and find the sqrt, and sin values of it"
      ],
      "id": "LVLXLPrqiEL9"
    },
    {
      "cell_type": "code",
      "metadata": {
        "id": "pLf0OHm3iEL9"
      },
      "source": [
        "a = np.array([1,2,3])\n",
        "b = np.array([[1.5,2,3],[4,5,6]])"
      ],
      "id": "pLf0OHm3iEL9",
      "execution_count": null,
      "outputs": []
    },
    {
      "cell_type": "code",
      "metadata": {
        "colab": {
          "base_uri": "https://localhost:8080/"
        },
        "id": "vcMaUL7siEL-",
        "outputId": "76a1ced0-c341-411a-c464-3b27932ae834"
      },
      "source": [
        "a = np.array([1,2,3])\n",
        "print(np.sqrt(a))\n",
        "print()\n",
        "print(np.sin(a))"
      ],
      "id": "vcMaUL7siEL-",
      "execution_count": null,
      "outputs": [
        {
          "output_type": "stream",
          "text": [
            "[1.         1.41421356 1.73205081]\n",
            "\n",
            "[0.84147098 0.90929743 0.14112001]\n"
          ],
          "name": "stdout"
        }
      ]
    },
    {
      "cell_type": "code",
      "metadata": {
        "colab": {
          "base_uri": "https://localhost:8080/"
        },
        "id": "H2uocyp1kaaL",
        "outputId": "de1b0208-f4af-46cf-bd4e-cd81c6dc64fe"
      },
      "source": [
        "b = np.array([[1.5,2,3],[4,5,6]])\n",
        "print(np.sqrt(b))\n",
        "print()\n",
        "print(np.sin(b))"
      ],
      "id": "H2uocyp1kaaL",
      "execution_count": null,
      "outputs": [
        {
          "output_type": "stream",
          "text": [
            "[[1.22474487 1.41421356 1.73205081]\n",
            " [2.         2.23606798 2.44948974]]\n",
            "\n",
            "[[ 0.99749499  0.90929743  0.14112001]\n",
            " [-0.7568025  -0.95892427 -0.2794155 ]]\n"
          ],
          "name": "stdout"
        }
      ]
    },
    {
      "cell_type": "markdown",
      "metadata": {
        "id": "fvLNXV2fiEL_"
      },
      "source": [
        "### 5. Create a 6d Array using ndmin and convert it to Bool Type"
      ],
      "id": "fvLNXV2fiEL_"
    },
    {
      "cell_type": "code",
      "metadata": {
        "colab": {
          "base_uri": "https://localhost:8080/"
        },
        "id": "wVkmK7NjiEMA",
        "outputId": "1c192f88-5b89-440f-a557-dd2f16d84da2"
      },
      "source": [
        "import numpy as np\n",
        "arr = np.array([1,0,1,0], ndmin=6, dtype=bool)\n",
        "\n",
        "print(arr)\n",
        "print('shape of an array :', arr.shape)"
      ],
      "id": "wVkmK7NjiEMA",
      "execution_count": null,
      "outputs": [
        {
          "output_type": "stream",
          "text": [
            "[[[[[[ True False  True False]]]]]]\n",
            "shape of an array : (1, 1, 1, 1, 1, 4)\n"
          ],
          "name": "stdout"
        }
      ]
    },
    {
      "cell_type": "markdown",
      "metadata": {
        "id": "m_uKeZCbiEMA"
      },
      "source": [
        "### 6. Given the array below, find the dot product of it"
      ],
      "id": "m_uKeZCbiEMA"
    },
    {
      "cell_type": "code",
      "metadata": {
        "id": "84e_mL-diEMB"
      },
      "source": [
        "arr1 = np.array([2, 3, 4])\n",
        "arr2 = np.array([3, 4, 5])"
      ],
      "id": "84e_mL-diEMB",
      "execution_count": null,
      "outputs": []
    },
    {
      "cell_type": "code",
      "metadata": {
        "colab": {
          "base_uri": "https://localhost:8080/"
        },
        "id": "OfMD7gZrmh3o",
        "outputId": "62cc0ad1-a5f8-431d-9c84-ce85de2cd072"
      },
      "source": [
        "arr1.dot(arr2)"
      ],
      "id": "OfMD7gZrmh3o",
      "execution_count": null,
      "outputs": [
        {
          "output_type": "execute_result",
          "data": {
            "text/plain": [
              "38"
            ]
          },
          "metadata": {
            "tags": []
          },
          "execution_count": 9
        }
      ]
    },
    {
      "cell_type": "markdown",
      "metadata": {
        "id": "AfBeCTKUiEMB"
      },
      "source": [
        "### 7. Check if All the elements of `arr1` is greater than `arr2`"
      ],
      "id": "AfBeCTKUiEMB"
    },
    {
      "cell_type": "code",
      "metadata": {
        "colab": {
          "base_uri": "https://localhost:8080/"
        },
        "id": "xHMKgfe5iEMB",
        "outputId": "5f20cb34-2c22-4fa3-8a80-d591b52f1e7a"
      },
      "source": [
        "min(arr1) > max(arr2)\n",
        "# if min of arr1 is not greater than arr2, then All the elements of arr1 is NOT greater than arr2"
      ],
      "id": "xHMKgfe5iEMB",
      "execution_count": null,
      "outputs": [
        {
          "output_type": "execute_result",
          "data": {
            "text/plain": [
              "False"
            ]
          },
          "metadata": {
            "tags": []
          },
          "execution_count": 10
        }
      ]
    },
    {
      "cell_type": "markdown",
      "metadata": {
        "id": "vCf5ixsSiEMC"
      },
      "source": [
        "### 8. given below is an array find the number of rows of the array and the total number of elements"
      ],
      "id": "vCf5ixsSiEMC"
    },
    {
      "cell_type": "code",
      "metadata": {
        "colab": {
          "base_uri": "https://localhost:8080/"
        },
        "id": "9V2Zl5IviEMC",
        "outputId": "42dd5a53-ae4b-49e6-e292-2c0ef3988b24"
      },
      "source": [
        "arr3 = np.array([[1, 2], [2, 3], [3, 4], [5, 6]])\n",
        "\n",
        "rows = len(arr3)\n",
        "rows"
      ],
      "id": "9V2Zl5IviEMC",
      "execution_count": null,
      "outputs": [
        {
          "output_type": "execute_result",
          "data": {
            "text/plain": [
              "4"
            ]
          },
          "metadata": {
            "tags": []
          },
          "execution_count": 11
        }
      ]
    },
    {
      "cell_type": "code",
      "metadata": {
        "colab": {
          "base_uri": "https://localhost:8080/"
        },
        "id": "6gmfRKe5pKeM",
        "outputId": "b77899f4-625b-4988-8db2-1a4ad043bf08"
      },
      "source": [
        "columns = len(arr3[0])\n",
        "total_length = rows * columns\n",
        "\n",
        "total_length"
      ],
      "id": "6gmfRKe5pKeM",
      "execution_count": null,
      "outputs": [
        {
          "output_type": "execute_result",
          "data": {
            "text/plain": [
              "8"
            ]
          },
          "metadata": {
            "tags": []
          },
          "execution_count": 12
        }
      ]
    },
    {
      "cell_type": "markdown",
      "metadata": {
        "id": "nXGiGYYCiEMD"
      },
      "source": [
        "### 9. Create a 3d Array and find its shape"
      ],
      "id": "nXGiGYYCiEMD"
    },
    {
      "cell_type": "code",
      "metadata": {
        "colab": {
          "base_uri": "https://localhost:8080/"
        },
        "id": "aqLYbea3iEME",
        "outputId": "716ca5a2-0fa8-4216-fddf-ff995410aecc"
      },
      "source": [
        "n,k,g = 3, 5 ,4 \n",
        "lst = [[[0]*n]*k]*g\n",
        "\n",
        "from pprint import pprint\n",
        "pprint(lst)\n",
        "print()\n",
        "\n",
        "arr3d = np.array(lst)\n",
        "arr3d.shape"
      ],
      "id": "aqLYbea3iEME",
      "execution_count": null,
      "outputs": [
        {
          "output_type": "stream",
          "text": [
            "[[[0, 0, 0], [0, 0, 0], [0, 0, 0], [0, 0, 0], [0, 0, 0]],\n",
            " [[0, 0, 0], [0, 0, 0], [0, 0, 0], [0, 0, 0], [0, 0, 0]],\n",
            " [[0, 0, 0], [0, 0, 0], [0, 0, 0], [0, 0, 0], [0, 0, 0]],\n",
            " [[0, 0, 0], [0, 0, 0], [0, 0, 0], [0, 0, 0], [0, 0, 0]]]\n",
            "\n"
          ],
          "name": "stdout"
        },
        {
          "output_type": "execute_result",
          "data": {
            "text/plain": [
              "(4, 5, 3)"
            ]
          },
          "metadata": {
            "tags": []
          },
          "execution_count": 13
        }
      ]
    },
    {
      "cell_type": "markdown",
      "metadata": {
        "id": "iR02EyKKiEME"
      },
      "source": [
        "### 10. Compare whether arr1 and arr2 are equal ? "
      ],
      "id": "iR02EyKKiEME"
    },
    {
      "cell_type": "code",
      "metadata": {
        "colab": {
          "base_uri": "https://localhost:8080/"
        },
        "id": "t8NmOZvSiEME",
        "outputId": "e2b87954-97ae-4e25-a1ce-aec36b76838f"
      },
      "source": [
        "check = (arr1 == arr2)\n",
        "print(check)\n",
        "\n",
        "all(check)\n",
        "# The all() function returns True if all items in an iterable are true, otherwise it returns False."
      ],
      "id": "t8NmOZvSiEME",
      "execution_count": null,
      "outputs": [
        {
          "output_type": "stream",
          "text": [
            "[False False False]\n"
          ],
          "name": "stdout"
        },
        {
          "output_type": "execute_result",
          "data": {
            "text/plain": [
              "False"
            ]
          },
          "metadata": {
            "tags": []
          },
          "execution_count": 14
        }
      ]
    },
    {
      "cell_type": "code",
      "metadata": {
        "id": "byYghh_orBte"
      },
      "source": [
        ""
      ],
      "id": "byYghh_orBte",
      "execution_count": null,
      "outputs": []
    }
  ]
}