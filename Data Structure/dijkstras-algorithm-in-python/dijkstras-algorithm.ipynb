{
 "cells": [
  {
   "cell_type": "code",
   "execution_count": 7,
   "metadata": {},
   "outputs": [
    {
     "name": "stdout",
     "output_type": "stream",
     "text": [
      "{'D': 0, 'B': 1, 'A': 3, 'C': 3}\n"
     ]
    }
   ],
   "source": [
    "nodes = ('A', 'B', 'C', 'D')\n",
    "distances = {\n",
    "    'B': {'A': 2, 'D': 1, 'C': 2},\n",
    "    'A': {'B': 2, 'D': 3, 'C': 4},\n",
    "    'C': {'A': 4, 'B': 2},\n",
    "    'D': {'B': 1, 'A': 3}\n",
    "}\n",
    "\n",
    "unvisited = {node: None for node in nodes} #using None as +inf\n",
    "visited = {}\n",
    "current = 'D'\n",
    "currentDistance = 0\n",
    "unvisited[current] = currentDistance\n",
    "\n",
    "while True:\n",
    "    for neighbour, distance in distances[current].items():\n",
    "        if neighbour not in unvisited: continue\n",
    "        newDistance = currentDistance + distance\n",
    "        if unvisited[neighbour] is None or unvisited[neighbour] > newDistance:\n",
    "            unvisited[neighbour] = newDistance\n",
    "    visited[current] = currentDistance\n",
    "    del unvisited[current]\n",
    "    if not unvisited: break\n",
    "    candidates = [node for node in unvisited.items() if node[1]]\n",
    "    current, currentDistance = sorted(candidates, key = lambda x: x[1])[0]\n",
    "\n",
    "print(visited)"
   ]
  },
  {
   "cell_type": "code",
   "execution_count": 8,
   "metadata": {},
   "outputs": [
    {
     "data": {
      "text/plain": [
       "{'A': None, 'B': None, 'C': None, 'D': None}"
      ]
     },
     "execution_count": 8,
     "metadata": {},
     "output_type": "execute_result"
    }
   ],
   "source": [
    "nodes = ('A', 'B', 'C', 'D')\n",
    "distances = {\n",
    "    'B': {'A': 2, 'D': 1, 'C': 2},\n",
    "    'A': {'B': 2, 'D': 3, 'C': 4},\n",
    "    'C': {'A': 4, 'B': 2},\n",
    "    'D': {'B': 1, 'A': 3}\n",
    "}\n",
    "\n",
    "unvisited = {node: None for node in nodes} #using None as +inf\n",
    "unvisited"
   ]
  },
  {
   "cell_type": "code",
   "execution_count": 9,
   "metadata": {},
   "outputs": [
    {
     "data": {
      "text/plain": [
       "dict_items([('B', 1), ('A', 3)])"
      ]
     },
     "execution_count": 9,
     "metadata": {},
     "output_type": "execute_result"
    }
   ],
   "source": [
    "visited = {}\n",
    "current = 'D'\n",
    "currentDistance = 0\n",
    "unvisited[current] = currentDistance\n",
    "distances[current].items()"
   ]
  },
  {
   "cell_type": "code",
   "execution_count": 10,
   "metadata": {},
   "outputs": [
    {
     "name": "stdout",
     "output_type": "stream",
     "text": [
      "B 1\n",
      "A 3\n",
      "A 2\n",
      "D 1\n",
      "C 2\n",
      "B 2\n",
      "D 3\n",
      "C 4\n",
      "A 4\n",
      "B 2\n",
      "{'D': 0, 'B': 1, 'A': 3, 'C': 3}\n"
     ]
    }
   ],
   "source": [
    "while True:\n",
    "    for neighbour, distance in distances[current].items():\n",
    "        print(neighbour, distance)\n",
    "        \n",
    "        if neighbour not in unvisited: continue\n",
    "        newDistance = currentDistance + distance\n",
    "        if unvisited[neighbour] is None or unvisited[neighbour] > newDistance:\n",
    "            unvisited[neighbour] = newDistance\n",
    "    visited[current] = currentDistance\n",
    "    del unvisited[current]\n",
    "    if not unvisited: break\n",
    "    candidates = [node for node in unvisited.items() if node[1]]\n",
    "    current, currentDistance = sorted(candidates, key = lambda x: x[1])[0]\n",
    "\n",
    "print(visited)"
   ]
  },
  {
   "cell_type": "code",
   "execution_count": null,
   "metadata": {},
   "outputs": [],
   "source": []
  }
 ],
 "metadata": {
  "kernelspec": {
   "display_name": "Python 3",
   "language": "python",
   "name": "python3"
  },
  "language_info": {
   "codemirror_mode": {
    "name": "ipython",
    "version": 3
   },
   "file_extension": ".py",
   "mimetype": "text/x-python",
   "name": "python",
   "nbconvert_exporter": "python",
   "pygments_lexer": "ipython3",
   "version": "3.8.3"
  }
 },
 "nbformat": 4,
 "nbformat_minor": 4
}
