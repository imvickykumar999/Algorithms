{
 "cells": [
  {
   "cell_type": "code",
   "execution_count": 1,
   "metadata": {},
   "outputs": [
    {
     "data": {
      "text/plain": [
       "['M', 'O', 'N', 'A', 'R', 'C', 'H', 'Y']"
      ]
     },
     "execution_count": 1,
     "metadata": {},
     "output_type": "execute_result"
    }
   ],
   "source": [
    "key = 'monarchy'\n",
    "key = list(key.upper())\n",
    "keys = sorted(set(key), key=key.index)\n",
    "keys"
   ]
  },
  {
   "cell_type": "code",
   "execution_count": 2,
   "metadata": {
    "scrolled": true
   },
   "outputs": [
    {
     "name": "stdout",
     "output_type": "stream",
     "text": [
      "['A', 'B', 'C', 'D', 'E', 'F', 'G', 'H', 'I', 'J', 'K', 'L', 'M', 'N', 'O', 'P', 'Q', 'R', 'S', 'T', 'U', 'V', 'W', 'X', 'Y', 'Z']\n"
     ]
    }
   ],
   "source": [
    "import string\n",
    "alpha = [letter for letter in string.ascii_uppercase]\n",
    "print(alpha)"
   ]
  },
  {
   "cell_type": "code",
   "execution_count": 3,
   "metadata": {},
   "outputs": [
    {
     "data": {
      "text/plain": [
       "['I', 'N', 'S', 'T', 'R', 'U', 'M', 'E', 'N', 'T', 'S', 'Z']"
      ]
     },
     "execution_count": 3,
     "metadata": {},
     "output_type": "execute_result"
    }
   ],
   "source": [
    "plain_text = \"instruments\"\n",
    "plain_text = plain_text.replace(' ', '')\n",
    "plain_text = list(plain_text.upper())\n",
    "\n",
    "if len(plain_text)%2:\n",
    "    plain_text+='Z'\n",
    "    \n",
    "plain_text"
   ]
  },
  {
   "cell_type": "code",
   "execution_count": 4,
   "metadata": {
    "scrolled": true
   },
   "outputs": [
    {
     "name": "stdout",
     "output_type": "stream",
     "text": [
      "['M', 'O', 'N', 'A', 'R', 'C', 'H', 'Y', 'B', 'D', 'E', 'F', 'G', 'I', 'K', 'L', 'P', 'Q', 'S', 'T', 'U', 'V', 'W', 'X', 'Z']\n"
     ]
    }
   ],
   "source": [
    "box = set(alpha) - set(keys)\n",
    "\n",
    "# If the plaintext contains J, then it is replaced by I.\n",
    "if 'J' in plain_text:\n",
    "    box = list(box - set('I'))\n",
    "else:\n",
    "    box = list(box - set('J'))\n",
    "    \n",
    "box.sort()\n",
    "box = keys + box\n",
    "print(box)"
   ]
  },
  {
   "cell_type": "code",
   "execution_count": 5,
   "metadata": {},
   "outputs": [
    {
     "data": {
      "text/plain": [
       "[['M', 'O', 'N', 'A', 'R'],\n",
       " ['C', 'H', 'Y', 'B', 'D'],\n",
       " ['E', 'F', 'G', 'I', 'K'],\n",
       " ['L', 'P', 'Q', 'S', 'T'],\n",
       " ['U', 'V', 'W', 'X', 'Z']]"
      ]
     },
     "execution_count": 5,
     "metadata": {},
     "output_type": "execute_result"
    }
   ],
   "source": [
    "matrix = [[0 for i in range(5)] for j in range(5)]\n",
    "\n",
    "x=0\n",
    "for i in range(5):\n",
    "    for j in range(5):\n",
    "        matrix[i][j] = box[x]\n",
    "        x+=1\n",
    "        \n",
    "matrix"
   ]
  },
  {
   "cell_type": "code",
   "execution_count": 6,
   "metadata": {},
   "outputs": [
    {
     "data": {
      "text/plain": [
       "array([['M', 'O', 'N', 'A', 'R'],\n",
       "       ['C', 'H', 'Y', 'B', 'D'],\n",
       "       ['E', 'F', 'G', 'I', 'K'],\n",
       "       ['L', 'P', 'Q', 'S', 'T'],\n",
       "       ['U', 'V', 'W', 'X', 'Z']], dtype='<U1')"
      ]
     },
     "execution_count": 6,
     "metadata": {},
     "output_type": "execute_result"
    }
   ],
   "source": [
    "import numpy as np\n",
    "\n",
    "matrix = np.array(matrix)\n",
    "plain_text = np.array(plain_text)\n",
    "box = np.array(box)\n",
    "keys = np.array(keys)\n",
    "\n",
    "matrix"
   ]
  },
  {
   "cell_type": "code",
   "execution_count": 7,
   "metadata": {},
   "outputs": [
    {
     "data": {
      "text/plain": [
       "[['I', 'N'], ['S', 'T'], ['R', 'U'], ['M', 'E'], ['N', 'T'], ['S', 'Z']]"
      ]
     },
     "execution_count": 7,
     "metadata": {},
     "output_type": "execute_result"
    }
   ],
   "source": [
    "text2d = [[0 for i in range(2)] for j in range(len(plain_text)//2)]\n",
    "text2d\n",
    "\n",
    "x=0\n",
    "for i in range(len(plain_text)//2):\n",
    "    for j in range(2):\n",
    "        text2d[i][j] = plain_text[x]\n",
    "        x+=1\n",
    "        \n",
    "text2d"
   ]
  },
  {
   "cell_type": "code",
   "execution_count": 8,
   "metadata": {},
   "outputs": [
    {
     "data": {
      "text/plain": [
       "[['I', [2, 3]],\n",
       " ['N', [0, 2]],\n",
       " ['S', [3, 3]],\n",
       " ['T', [3, 4]],\n",
       " ['R', [0, 4]],\n",
       " ['U', [4, 0]],\n",
       " ['M', [0, 0]],\n",
       " ['E', [2, 0]],\n",
       " ['N', [0, 2]],\n",
       " ['T', [3, 4]],\n",
       " ['S', [3, 3]],\n",
       " ['Z', [4, 4]]]"
      ]
     },
     "execution_count": 8,
     "metadata": {},
     "output_type": "execute_result"
    }
   ],
   "source": [
    "json = []\n",
    "for i in range(len(text2d)):\n",
    "    for j in range(2):\n",
    "        pos = np.where(matrix == text2d[i][j])\n",
    "        json.append([text2d[i][j], [int(pos[0]), int(pos[1])]])\n",
    "json"
   ]
  },
  {
   "cell_type": "code",
   "execution_count": 9,
   "metadata": {},
   "outputs": [
    {
     "name": "stdout",
     "output_type": "stream",
     "text": [
      "I -> G\n",
      "N -> A\n",
      "S -> T\n",
      "T -> L\n",
      "R -> M\n",
      "U -> Z\n",
      "M -> C\n",
      "E -> L\n",
      "N -> R\n",
      "T -> Q\n",
      "S -> T\n",
      "Z -> X\n"
     ]
    },
    {
     "data": {
      "text/plain": [
       "['G', 'A', 'T', 'L', 'M', 'Z', 'C', 'L', 'R', 'Q', 'T', 'X']"
      ]
     },
     "execution_count": 9,
     "metadata": {},
     "output_type": "execute_result"
    }
   ],
   "source": [
    "emp = []\n",
    "for i in range(0, len(json), 2):\n",
    "    a = json[i][1][0]\n",
    "    b = json[i+1][1][0]\n",
    "    c = json[i][1][1]\n",
    "    d = json[i+1][1][1]\n",
    "    \n",
    "#     print(a,c) \n",
    "#     print(b,d) \n",
    "\n",
    "    if a==b:\n",
    "        print(matrix[a][c], '->', matrix[a][(c+1)%5])\n",
    "        emp.append(matrix[a][(c+1)%5])\n",
    "        print(matrix[b][d], '->', matrix[b][(d+1)%5])\n",
    "        emp.append(matrix[b][(d+1)%5])\n",
    "    elif c==d:\n",
    "        print(matrix[a][c], '->', matrix[(a+1)%5][c])\n",
    "        emp.append(matrix[(a+1)%5][c])\n",
    "        print(matrix[b][d], '->', matrix[(b+1)%5][d])\n",
    "        emp.append(matrix[(b+1)%5][d])\n",
    "    else:\n",
    "        print(matrix[a][c], '->', matrix[a][d])\n",
    "        emp.append(matrix[a][d])\n",
    "        print(matrix[b][d], '->', matrix[b][c])\n",
    "        emp.append(matrix[b][c])\n",
    "emp"
   ]
  },
  {
   "cell_type": "code",
   "execution_count": 10,
   "metadata": {},
   "outputs": [
    {
     "data": {
      "text/plain": [
       "'GATLMZCLRQTX'"
      ]
     },
     "execution_count": 10,
     "metadata": {},
     "output_type": "execute_result"
    }
   ],
   "source": [
    "output = ''.join(emp)\n",
    "output"
   ]
  },
  {
   "cell_type": "code",
   "execution_count": 11,
   "metadata": {},
   "outputs": [
    {
     "data": {
      "text/plain": [
       "[[0, 0], [0, 0], [0, 0], [0, 0], [0, 0], [0, 0]]"
      ]
     },
     "execution_count": 11,
     "metadata": {},
     "output_type": "execute_result"
    }
   ],
   "source": [
    "out2d = [[0 for i in range(2)] for j in range(len(plain_text)//2)]\n",
    "out2d"
   ]
  },
  {
   "cell_type": "code",
   "execution_count": 12,
   "metadata": {},
   "outputs": [
    {
     "data": {
      "text/plain": [
       "[['G', 'A'], ['T', 'L'], ['M', 'Z'], ['C', 'L'], ['R', 'Q'], ['T', 'X']]"
      ]
     },
     "execution_count": 12,
     "metadata": {},
     "output_type": "execute_result"
    }
   ],
   "source": [
    "x=0\n",
    "for i in range(len(emp)//2):\n",
    "    for j in range(2):\n",
    "        out2d[i][j] = emp[x]\n",
    "        x+=1\n",
    "out2d "
   ]
  },
  {
   "cell_type": "code",
   "execution_count": 13,
   "metadata": {},
   "outputs": [
    {
     "data": {
      "text/plain": [
       "[['I', 'N'], ['S', 'T'], ['R', 'U'], ['M', 'E'], ['N', 'T'], ['S', 'Z']]"
      ]
     },
     "execution_count": 13,
     "metadata": {},
     "output_type": "execute_result"
    }
   ],
   "source": [
    "text2d"
   ]
  },
  {
   "cell_type": "code",
   "execution_count": 14,
   "metadata": {},
   "outputs": [
    {
     "data": {
      "text/plain": [
       "'IN ST RU ME NT SZ '"
      ]
     },
     "execution_count": 14,
     "metadata": {},
     "output_type": "execute_result"
    }
   ],
   "source": [
    "tpair = ''\n",
    "for i in text2d:\n",
    "    for j in range(0,2,2):\n",
    "        tpair += f'{i[j]}{i[j+1]} '\n",
    "\n",
    "tpair"
   ]
  },
  {
   "cell_type": "code",
   "execution_count": 15,
   "metadata": {},
   "outputs": [
    {
     "data": {
      "text/plain": [
       "'GA TL MZ CL RQ TX '"
      ]
     },
     "execution_count": 15,
     "metadata": {},
     "output_type": "execute_result"
    }
   ],
   "source": [
    "epair = ''\n",
    "for i in out2d:\n",
    "    for j in range(0,2,2):\n",
    "        epair += f'{i[j]}{i[j+1]} '\n",
    "\n",
    "epair"
   ]
  },
  {
   "cell_type": "code",
   "execution_count": null,
   "metadata": {},
   "outputs": [],
   "source": []
  },
  {
   "cell_type": "code",
   "execution_count": null,
   "metadata": {},
   "outputs": [],
   "source": []
  }
 ],
 "metadata": {
  "kernelspec": {
   "display_name": "Python 3",
   "language": "python",
   "name": "python3"
  },
  "language_info": {
   "codemirror_mode": {
    "name": "ipython",
    "version": 3
   },
   "file_extension": ".py",
   "mimetype": "text/x-python",
   "name": "python",
   "nbconvert_exporter": "python",
   "pygments_lexer": "ipython3",
   "version": "3.8.3"
  }
 },
 "nbformat": 4,
 "nbformat_minor": 4
}
